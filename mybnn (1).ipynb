{
 "cells": [
  {
   "cell_type": "code",
   "execution_count": 1,
   "id": "91955271",
   "metadata": {},
   "outputs": [],
   "source": [
    "import torch\n",
    "import torch.nn as nn\n",
    "import torch.nn.functional as F\n",
    "from torchsummary import summary\n",
    "import torch.optim as optim\n",
    "from torch.utils.data import DataLoader, Dataset, random_split, Subset\n",
    "from torch.nn.utils import clip_grad_norm_\n",
    "from torchvision import transforms, utils, models\n",
    "from PIL import Image\n",
    "import os\n",
    "import math\n",
    "import numpy as np\n",
    "import torchbnn as bnn\n",
    "import cv2\n",
    "import matplotlib.pyplot as plt\n",
    "from tqdm.notebook import tqdm\n",
    "from sklearn.metrics import confusion_matrix, ConfusionMatrixDisplay\n",
    "from sklearn.metrics import accuracy_score, precision_score, recall_score\n",
    "from itertools import repeat\n",
    "import pickle"
   ]
  },
  {
   "cell_type": "code",
   "execution_count": null,
   "id": "a42d5efd",
   "metadata": {},
   "outputs": [],
   "source": []
  },
  {
   "cell_type": "code",
   "execution_count": 2,
   "id": "597fbd4c",
   "metadata": {},
   "outputs": [
    {
     "name": "stdout",
     "output_type": "stream",
     "text": [
      "Device:  cuda\n"
     ]
    }
   ],
   "source": [
    "os.environ[\"CUDA_VISIBLE_DEVICES\"] = \"2\"\n",
    "device = torch.device(\"cuda\" if torch.cuda.is_available() else \"cpu\")\n",
    "print(\"Device: \",device)"
   ]
  },
  {
   "cell_type": "code",
   "execution_count": 3,
   "id": "18c27796",
   "metadata": {},
   "outputs": [],
   "source": [
    "batch_size=2\n",
    "accum_steps=8\n",
    "lr = 1e-5\n",
    "epochs=100"
   ]
  },
  {
   "cell_type": "markdown",
   "id": "b4545e57",
   "metadata": {},
   "source": [
    "# Dataset-- Vindr CC+MLO"
   ]
  },
  {
   "cell_type": "code",
   "execution_count": 4,
   "id": "50424b22",
   "metadata": {},
   "outputs": [],
   "source": [
    "class VindrDataset(Dataset):\n",
    "    def __init__(self, root, split, transform=None):\n",
    "        self.img_paths=[]\n",
    "        self.labels=[]\n",
    "        self.base_path=list(map(os.path.join,root,repeat(split,len(root))))\n",
    "        print(self.base_path)\n",
    "        self.transform=transform\n",
    "        for base in self.base_path:\n",
    "            if os.path.isdir(base):\n",
    "                for label in os.listdir(base):\n",
    "                    label_path=os.path.join(base,label)\n",
    "                    for img in os.listdir(label_path):\n",
    "                        if img.endswith((\".jpg\", \".png\", \".gif\")):\n",
    "                            self.img_paths.append(os.path.join(label_path,img))\n",
    "                            self.labels.append(int(label))\n",
    "                    \n",
    "    def __len__(self):\n",
    "        return len(self.labels)\n",
    "    \n",
    "    def __getitem__(self,index):\n",
    "        img_path=self.img_paths[index]\n",
    "        label=int(self.labels[index])\n",
    "        \n",
    "        #img=Image.open(img_path).convert('L')\n",
    "        img = cv2.imread(img_path) # read image by cv2\n",
    "        #print(img)\n",
    "        img = cv2.cvtColor(img, cv2.COLOR_BGR2RGB)\n",
    "        \n",
    "        if self.transform:\n",
    "            img=self.transform(image=img)['image']\n",
    "            #img=self.transform(img)\n",
    "            \n",
    "        #label=torch.tensor(label, dtype=torch.float32)\n",
    "        \n",
    "        return img, label"
   ]
  },
  {
   "cell_type": "code",
   "execution_count": 5,
   "id": "8d886193",
   "metadata": {},
   "outputs": [],
   "source": [
    "import albumentations as A\n",
    "from albumentations.pytorch import ToTensorV2\n",
    "\n",
    "train_transforms=A.Compose([\n",
    "    A.VerticalFlip(p=0.5),\n",
    "    A.ShiftScaleRotate(shift_limit=0.05, scale_limit=0.1, rotate_limit=10, p=0.5),\n",
    "    A.Resize(1024,512),\n",
    "    A.RandomBrightnessContrast(brightness_limit=0.1, contrast_limit=0.1, p=0.5),\n",
    "    A.RandomGamma(gamma_limit=(90, 110), p=0.5),\n",
    "    #A.Normalize(mean=(0.1744,0.1744, 0.1744), std=(0.2026, 0.2026, 0.2026)),\n",
    "    #A.Normalize(mean=(0.17463994, 0.17463994, 0.17463994), std=(0.19655961, 0.19655961, 0.19655961)),\n",
    "    A.Normalize(mean=(0.17635095, 0.17635095, 0.17635095), std=(0.19929671, 0.19929671, 0.19929671)),\n",
    "    ToTensorV2()\n",
    "])\n",
    "\n",
    "val_transforms =  A.Compose([\n",
    "    A.Resize(1024, 512),\n",
    "    #A.Normalize(mean=(0.1744,0.1744, 0.1744), std=(0.2026, 0.2026, 0.2026)),\n",
    "    #A.Normalize(mean=(0.17463994, 0.17463994, 0.17463994), std=(0.19655961, 0.19655961, 0.19655961)),\n",
    "    A.Normalize(mean=(0.17635095, 0.17635095, 0.17635095), std=(0.19929671, 0.19929671, 0.19929671)),\n",
    "    ToTensorV2()\n",
    "])"
   ]
  },
  {
   "cell_type": "code",
   "execution_count": 6,
   "id": "bbfe9445",
   "metadata": {},
   "outputs": [
    {
     "name": "stdout",
     "output_type": "stream",
     "text": [
      "['../CC/train']\n",
      "['../CC/test']\n",
      "Abnormal samples=751\n",
      "Original train dataset length=7985 After balancing=1502\n"
     ]
    }
   ],
   "source": [
    "#root=['../CC', '../MLO']\n",
    "root=['../CC']\n",
    "\n",
    "train_dataset=VindrDataset(root, 'train', train_transforms)\n",
    "test_calib_dataset=VindrDataset(root, 'test', val_transforms)\n",
    "total_len=len(test_calib_dataset)\n",
    "calib_ratio=0.4\n",
    "#print([int(calib_ratio*total_len), int(test_ratio*total_len)],total_len)\n",
    "calib_len=int(calib_ratio*total_len)\n",
    "test_len=total_len-calib_len\n",
    "test_dataset, calib_dataset=random_split(test_calib_dataset, [test_len,calib_len])\n",
    "\n",
    "nrml_inds, abnrml_inds=[],[]\n",
    "\n",
    "for i,(_,label) in enumerate(train_dataset):\n",
    "    if label==0:\n",
    "        nrml_inds.append(i)\n",
    "    if label==1:\n",
    "        abnrml_inds.append(i)\n",
    "abnrml_length=len(abnrml_inds)\n",
    "print(f\"Abnormal samples={abnrml_length}\")\n",
    "nrml_subset=np.random.choice(nrml_inds,abnrml_length,replace=False)\n",
    "balanced_inds=list(nrml_subset)+abnrml_inds\n",
    "balanced_train_dataset=Subset(train_dataset,balanced_inds)\n",
    "print(f\"Original train dataset length={len(train_dataset)} After balancing={len(balanced_train_dataset)}\")\n",
    "\n",
    "train_loader=DataLoader(balanced_train_dataset, batch_size=batch_size, shuffle=True)\n",
    "test_loader=DataLoader(test_dataset, batch_size=batch_size, shuffle=False)\n",
    "calib_loader=DataLoader(calib_dataset, batch_size=batch_size, shuffle=True)"
   ]
  },
  {
   "cell_type": "markdown",
   "id": "d8a01a2d",
   "metadata": {},
   "source": [
    "## Parameters"
   ]
  },
  {
   "cell_type": "code",
   "execution_count": 7,
   "id": "52f50c7c",
   "metadata": {},
   "outputs": [],
   "source": [
    "#classes, train_count, test_count, calib_count= [0, 1], [14466, 1467], [223, 2168], [1448, 146]\n",
    "#class_weights=torch.tensor([0.0921, 0.9079]).to(device)"
   ]
  },
  {
   "cell_type": "markdown",
   "id": "f238fe0e",
   "metadata": {},
   "source": [
    "# Model"
   ]
  },
  {
   "cell_type": "code",
   "execution_count": 8,
   "id": "a1f42373",
   "metadata": {},
   "outputs": [],
   "source": [
    "\n",
    "class BayesianLinear(nn.Module):\n",
    "    def __init__(self, in_features, out_features, prior_mu=0, prior_sigma=0.01):\n",
    "        super().__init__()\n",
    "        self.in_features = in_features\n",
    "        self.out_features = out_features\n",
    "\n",
    "        # Learnable parameters: μ and log(σ)\n",
    "        self.weight_mu = nn.Parameter(torch.Tensor(out_features, in_features).normal_(0, 0.01))\n",
    "        self.weight_log_sigma = nn.Parameter(torch.Tensor(out_features, in_features).fill_(-3))\n",
    "\n",
    "        self.bias_mu = nn.Parameter(torch.Tensor(out_features).normal_(0, 0.01))\n",
    "        self.bias_log_sigma = nn.Parameter(torch.Tensor(out_features).fill_(-3))\n",
    "\n",
    "        self.prior_mu = prior_mu\n",
    "        self.prior_sigma = prior_sigma\n",
    "        \n",
    "        self.KL=0.0\n",
    "\n",
    "    def forward(self, x):\n",
    "        weight_log_sigma_clamped = torch.clamp(self.weight_log_sigma, min=-5.0, max=1.0)\n",
    "        weight_sigma = torch.exp(weight_log_sigma_clamped)\n",
    "        bias_log_sigma_clamped = torch.clamp(self.bias_log_sigma, min=-5.0, max=1.0)\n",
    "        bias_sigma = torch.exp(bias_log_sigma_clamped)\n",
    "\n",
    "        weight = self.weight_mu + weight_sigma * torch.randn_like(self.weight_mu)\n",
    "        bias = self.bias_mu + bias_sigma * torch.randn_like(self.bias_mu)\n",
    "        \n",
    "        self.KL=self.kl_loss()\n",
    "\n",
    "        return F.linear(x, weight, bias)\n",
    "\n",
    "    def kl_loss(self):\n",
    "        weight_kl = self._kl_div(self.weight_mu, self.weight_log_sigma)\n",
    "        bias_kl = self._kl_div(self.bias_mu, self.bias_log_sigma)\n",
    "        return weight_kl + bias_kl\n",
    "\n",
    "    def _kl_div(self, mu, log_sigma):\n",
    "        sigma = torch.exp(log_sigma)\n",
    "        return torch.sum(\n",
    "            log_sigma - torch.log(torch.tensor(self.prior_sigma)) +\n",
    "            (self.prior_sigma**2 + (mu - self.prior_mu)**2) / (2 * sigma**2) - 0.5\n",
    "        )\n",
    "\n",
    "\n",
    "class BayesianConv2d(nn.Module):\n",
    "    def __init__(self, in_channels, out_channels, kernel_size, stride=1, padding=1, prior_mu=0, prior_sigma=0.01):\n",
    "        super().__init__()\n",
    "        self.kernel_size = kernel_size\n",
    "        self.stride = stride\n",
    "        self.padding = padding\n",
    "\n",
    "        self.weight_mu = nn.Parameter(torch.Tensor(out_channels, in_channels, kernel_size, kernel_size)\n",
    "                                      .normal_(0, 0.01))\n",
    "        self.weight_log_sigma = nn.Parameter(torch.Tensor(out_channels, in_channels, kernel_size, kernel_size)\n",
    "                                             .fill_(-3))\n",
    "\n",
    "        self.bias_mu = nn.Parameter(torch.Tensor(out_channels).normal_(0, 0.01))\n",
    "        self.bias_log_sigma = nn.Parameter(torch.Tensor(out_channels).fill_(-3))\n",
    "\n",
    "        self.prior_mu = prior_mu\n",
    "        self.prior_sigma = prior_sigma\n",
    "        \n",
    "        self.KL=0.0\n",
    "\n",
    "    def forward(self, x):\n",
    "        weight_log_sigma_clamped = torch.clamp(self.weight_log_sigma, min=-5.0, max=1.0)\n",
    "        weight_sigma = torch.exp(weight_log_sigma_clamped)\n",
    "        bias_log_sigma_clamped = torch.clamp(self.bias_log_sigma, min=-5.0, max=1.0)\n",
    "        bias_sigma = torch.exp(bias_log_sigma_clamped)\n",
    "\n",
    "        weight = self.weight_mu + weight_sigma * torch.randn_like(self.weight_mu)\n",
    "        bias = self.bias_mu + bias_sigma * torch.randn_like(self.bias_mu)\n",
    "        \n",
    "        self.KL=self.kl_loss()\n",
    "\n",
    "        return F.conv2d(x, weight, bias, stride=self.stride, padding=self.padding)\n",
    "\n",
    "    def kl_loss(self):\n",
    "        weight_kl = self._kl_div(self.weight_mu, self.weight_log_sigma)\n",
    "        bias_kl = self._kl_div(self.bias_mu, self.bias_log_sigma)\n",
    "        return weight_kl + bias_kl\n",
    "\n",
    "    def _kl_div(self, mu, log_sigma):\n",
    "        sigma = torch.exp(log_sigma)\n",
    "        return torch.sum(\n",
    "            log_sigma - torch.log(torch.tensor(self.prior_sigma)) +\n",
    "            (self.prior_sigma**2 + (mu - self.prior_mu)**2) / (2 * sigma**2) - 0.5\n",
    "        )\n"
   ]
  },
  {
   "cell_type": "code",
   "execution_count": 9,
   "id": "c66caf4d",
   "metadata": {},
   "outputs": [],
   "source": [
    "class ConfigurableBNN(nn.Module):\n",
    "    def __init__(\n",
    "        self,\n",
    "        cfg,\n",
    "        in_channels,\n",
    "        num_classes=1,\n",
    "        prior_mu=0,\n",
    "        prior_sigma=0.1,\n",
    "        kernel_size=3,\n",
    "        padding=1\n",
    "    ):\n",
    "        super(ConfigurableBNN, self).__init__()\n",
    "\n",
    "        self.features = self._make_layers(cfg, in_channels, prior_mu, prior_sigma, kernel_size, padding)\n",
    "        self.flatten = nn.Flatten()\n",
    "        self.fc_layers = nn.Sequential(\n",
    "            BayesianLinear(in_features=512, out_features=4096, prior_mu=prior_mu, prior_sigma=prior_sigma),\n",
    "            nn.ReLU(True),\n",
    "            nn.Dropout(),\n",
    "            BayesianLinear(in_features=4096, out_features=4096, prior_mu=prior_mu, prior_sigma=prior_sigma),\n",
    "            nn.ReLU(True),\n",
    "            nn.Dropout()\n",
    "        )\n",
    "        self.logits = bnn.BayesLinear(in_features=4096, out_features=num_classes, prior_mu=prior_mu, prior_sigma=prior_sigma)\n",
    "        self.log_var = bnn.BayesLinear(in_features=4096, out_features=num_classes, prior_mu=prior_mu, prior_sigma=prior_sigma)\n",
    "\n",
    "    def _make_layers(self, cfg, in_channels, prior_mu, prior_sigma, kernel_size, padding):\n",
    "        layers = []\n",
    "        for v in cfg:\n",
    "            if v == 'M':\n",
    "                layers += [nn.MaxPool2d(kernel_size=2, stride=2)]\n",
    "            else:\n",
    "                layers += [\n",
    "                    BayesianConv2d(in_channels=in_channels, out_channels=v, kernel_size=kernel_size, padding=padding, prior_mu=prior_mu, prior_sigma=prior_sigma),\n",
    "                    nn.BatchNorm2d(v),\n",
    "                    nn.ReLU(inplace=True)\n",
    "                ]\n",
    "                in_channels = v\n",
    "        layers += [nn.AdaptiveAvgPool2d((1, 1))]\n",
    "        return nn.Sequential(*layers)\n",
    "\n",
    "    def forward(self, x):\n",
    "        kl = 0.0\n",
    "        for layer in self.features:\n",
    "            x = layer(x)\n",
    "            if hasattr(layer, 'KL'):\n",
    "                kl += layer.KL\n",
    "\n",
    "        x = self.flatten(x)\n",
    "\n",
    "        for layer in self.fc_layers:\n",
    "            x = layer(x)\n",
    "            if hasattr(layer, 'KL'):\n",
    "                kl += layer.KL\n",
    "        \n",
    "\n",
    "        return self.logits(x), self.log_var(x), kl\n",
    "\n",
    "\n"
   ]
  },
  {
   "cell_type": "code",
   "execution_count": 10,
   "id": "e3026063",
   "metadata": {},
   "outputs": [
    {
     "name": "stdout",
     "output_type": "stream",
     "text": [
      "----------------------------------------------------------------\n",
      "        Layer (type)               Output Shape         Param #\n",
      "================================================================\n",
      "    BayesianConv2d-1        [-1, 64, 1024, 512]               0\n",
      "       BatchNorm2d-2        [-1, 64, 1024, 512]             128\n",
      "              ReLU-3        [-1, 64, 1024, 512]               0\n",
      "    BayesianConv2d-4        [-1, 64, 1024, 512]               0\n",
      "       BatchNorm2d-5        [-1, 64, 1024, 512]             128\n",
      "              ReLU-6        [-1, 64, 1024, 512]               0\n",
      "         MaxPool2d-7         [-1, 64, 512, 256]               0\n",
      "    BayesianConv2d-8        [-1, 128, 512, 256]               0\n",
      "       BatchNorm2d-9        [-1, 128, 512, 256]             256\n",
      "             ReLU-10        [-1, 128, 512, 256]               0\n",
      "   BayesianConv2d-11        [-1, 128, 512, 256]               0\n",
      "      BatchNorm2d-12        [-1, 128, 512, 256]             256\n",
      "             ReLU-13        [-1, 128, 512, 256]               0\n",
      "        MaxPool2d-14        [-1, 128, 256, 128]               0\n",
      "   BayesianConv2d-15        [-1, 256, 256, 128]               0\n",
      "      BatchNorm2d-16        [-1, 256, 256, 128]             512\n",
      "             ReLU-17        [-1, 256, 256, 128]               0\n",
      "   BayesianConv2d-18        [-1, 256, 256, 128]               0\n",
      "      BatchNorm2d-19        [-1, 256, 256, 128]             512\n",
      "             ReLU-20        [-1, 256, 256, 128]               0\n",
      "   BayesianConv2d-21        [-1, 256, 256, 128]               0\n",
      "      BatchNorm2d-22        [-1, 256, 256, 128]             512\n",
      "             ReLU-23        [-1, 256, 256, 128]               0\n",
      "   BayesianConv2d-24        [-1, 256, 256, 128]               0\n",
      "      BatchNorm2d-25        [-1, 256, 256, 128]             512\n",
      "             ReLU-26        [-1, 256, 256, 128]               0\n",
      "        MaxPool2d-27         [-1, 256, 128, 64]               0\n",
      "   BayesianConv2d-28         [-1, 512, 128, 64]               0\n",
      "      BatchNorm2d-29         [-1, 512, 128, 64]           1,024\n",
      "             ReLU-30         [-1, 512, 128, 64]               0\n",
      "   BayesianConv2d-31         [-1, 512, 128, 64]               0\n",
      "      BatchNorm2d-32         [-1, 512, 128, 64]           1,024\n",
      "             ReLU-33         [-1, 512, 128, 64]               0\n",
      "   BayesianConv2d-34         [-1, 512, 128, 64]               0\n",
      "      BatchNorm2d-35         [-1, 512, 128, 64]           1,024\n",
      "             ReLU-36         [-1, 512, 128, 64]               0\n",
      "   BayesianConv2d-37         [-1, 512, 128, 64]               0\n",
      "      BatchNorm2d-38         [-1, 512, 128, 64]           1,024\n",
      "             ReLU-39         [-1, 512, 128, 64]               0\n",
      "        MaxPool2d-40          [-1, 512, 64, 32]               0\n",
      "   BayesianConv2d-41          [-1, 512, 64, 32]               0\n",
      "      BatchNorm2d-42          [-1, 512, 64, 32]           1,024\n",
      "             ReLU-43          [-1, 512, 64, 32]               0\n",
      "   BayesianConv2d-44          [-1, 512, 64, 32]               0\n",
      "      BatchNorm2d-45          [-1, 512, 64, 32]           1,024\n",
      "             ReLU-46          [-1, 512, 64, 32]               0\n",
      "   BayesianConv2d-47          [-1, 512, 64, 32]               0\n",
      "      BatchNorm2d-48          [-1, 512, 64, 32]           1,024\n",
      "             ReLU-49          [-1, 512, 64, 32]               0\n",
      "   BayesianConv2d-50          [-1, 512, 64, 32]               0\n",
      "      BatchNorm2d-51          [-1, 512, 64, 32]           1,024\n",
      "             ReLU-52          [-1, 512, 64, 32]               0\n",
      "        MaxPool2d-53          [-1, 512, 32, 16]               0\n",
      "AdaptiveAvgPool2d-54            [-1, 512, 1, 1]               0\n",
      "          Flatten-55                  [-1, 512]               0\n",
      "   BayesianLinear-56                 [-1, 4096]               0\n",
      "             ReLU-57                 [-1, 4096]               0\n",
      "          Dropout-58                 [-1, 4096]               0\n",
      "   BayesianLinear-59                 [-1, 4096]               0\n",
      "             ReLU-60                 [-1, 4096]               0\n",
      "          Dropout-61                 [-1, 4096]               0\n",
      "      BayesLinear-62                    [-1, 1]               0\n",
      "      BayesLinear-63                    [-1, 1]               0\n",
      "================================================================\n",
      "Total params: 11,008\n",
      "Trainable params: 11,008\n",
      "Non-trainable params: 0\n",
      "----------------------------------------------------------------\n",
      "Input size (MB): 6.00\n",
      "Forward/backward pass size (MB): 3674.20\n",
      "Params size (MB): 0.04\n",
      "Estimated Total Size (MB): 3680.24\n",
      "----------------------------------------------------------------\n"
     ]
    }
   ],
   "source": [
    "\n",
    "vgg19_cfg = [64, 64, 'M',\n",
    "             128, 128, 'M',\n",
    "             256, 256, 256, 256, 'M',\n",
    "             512, 512, 512, 512, 'M',\n",
    "             512, 512, 512, 512, 'M']\n",
    "\n",
    "model=ConfigurableBNN(vgg19_cfg, in_channels=3).to(device)\n",
    "summary(model, input_size=(3,1024,512))"
   ]
  },
  {
   "cell_type": "markdown",
   "id": "26a98e26",
   "metadata": {},
   "source": [
    "# Early Stopping"
   ]
  },
  {
   "cell_type": "code",
   "execution_count": 33,
   "id": "d2dcec27",
   "metadata": {},
   "outputs": [],
   "source": [
    "class EarlyStopping:\n",
    "    def __init__(self, patience=5, verbose=False, delta=0.0, path='checkpoint.pt', trace_func=print):\n",
    "        \"\"\"\n",
    "        Args:\n",
    "            patience (int): How long to wait after last improvement.\n",
    "            verbose (bool): If True, prints improvement messages.\n",
    "            delta (float): Minimum change to qualify as improvement.\n",
    "            path (str): Where to save the best model.\n",
    "            trace_func (function): Logging function (default is print).\n",
    "        \"\"\"\n",
    "        self.patience = patience\n",
    "        self.verbose = verbose\n",
    "        self.counter = 0\n",
    "        self.best_score = None\n",
    "        self.early_stop = False\n",
    "        self.val_min = np.Inf\n",
    "        self.delta = delta\n",
    "        self.path = path\n",
    "        self.trace_func = trace_func\n",
    "\n",
    "    def __call__(self, val_loss, checkpoint):\n",
    "        score = -val_loss\n",
    "\n",
    "        if self.best_score is None:\n",
    "            self.best_score = score\n",
    "            self.save_checkpoint(val_loss, checkpoint)\n",
    "\n",
    "        elif score < self.best_score + self.delta:\n",
    "            self.counter += 1\n",
    "            if self.verbose:\n",
    "                self.trace_func(f\"EarlyStopping counter: {self.counter} out of {self.patience}\")\n",
    "            if self.counter >= self.patience:\n",
    "                self.early_stop = True\n",
    "\n",
    "        else:\n",
    "            self.best_score = score\n",
    "            self.save_checkpoint(val_loss, checkpoint)\n",
    "            self.counter = 0\n",
    "\n",
    "    def save_checkpoint(self, val_loss, checkpoint):\n",
    "        '''Saves model when validation loss decreases.'''\n",
    "        if self.verbose:\n",
    "            self.trace_func(f\"Validation loss decreased ({self.val_min:.6f} --> {val_loss:.6f}).  Saving model ...\")\n",
    "        torch.save(checkpoint, self.path)\n",
    "        self.val_min = val_loss\n"
   ]
  },
  {
   "cell_type": "markdown",
   "id": "c53d7b1b",
   "metadata": {},
   "source": [
    "# Loss Function, Training"
   ]
  },
  {
   "cell_type": "code",
   "execution_count": 34,
   "id": "3267aaa1",
   "metadata": {},
   "outputs": [],
   "source": [
    "import torch\n",
    "import torch.nn as nn\n",
    "\n",
    "def bnn_loss(logits, log_var, labels, kl_loss, class_weights=None, beta=1.0, min_var=1e-3, max_var=1e+3):\n",
    "    \"\"\"\n",
    "    Combines aleatoric and epistemic (KL) uncertainty for binary classification loss.\n",
    "\n",
    "    Parameters:\n",
    "    - logits: Raw output from model before sigmoid\n",
    "    - log_var: Predicted log variance from model\n",
    "    - labels: Ground truth labels (0 or 1)\n",
    "    - kl_loss: Sum of KL divergence from all Bayesian layers\n",
    "    - class_weights: Tensor of shape [num_classes], e.g., [0.3, 0.7] for class 0 and 1\n",
    "    - beta: Weight for KL term (typically 1 / N, or schedule during training)\n",
    "    \"\"\"\n",
    "    labels = labels.float().unsqueeze(1)  # (B, 1)\n",
    "    logits = logits.unsqueeze(1) if logits.dim() == 1 else logits\n",
    "    log_var = log_var.unsqueeze(1) if log_var.dim() == 1 else log_var\n",
    "\n",
    "    bce_loss = nn.BCEWithLogitsLoss(reduction='none')(logits, labels)\n",
    "    #print(f\"logits={logits}, labels={labels}, bce loss={bce_loss}\")\n",
    "\n",
    "    # Apply class weights\n",
    "    if class_weights is not None:\n",
    "        weights = class_weights[labels.long().squeeze()]\n",
    "        #print(f\"class weights={weights}\")\n",
    "        bce_loss = bce_loss.view(-1) * weights\n",
    "\n",
    "    # Aleatoric uncertainty\n",
    "    log_var = torch.clamp(log_var, min=-10.0, max=10.0)\n",
    "    aleatoric_uncertainty = torch.exp(log_var)\n",
    "    aleatoric_uncertainty = torch.clamp(aleatoric_uncertainty, min=min_var, max=max_var)\n",
    "\n",
    "    # Uncertainty-aware loss\n",
    "    uncertainty_loss = bce_loss / (2 * aleatoric_uncertainty) + 0.5 * log_var\n",
    "\n",
    "    # Total loss = Aleatoric + KL\n",
    "    total_loss = uncertainty_loss.mean() + beta * kl_loss\n",
    "\n",
    "    return total_loss, aleatoric_uncertainty.mean(), kl_loss\n"
   ]
  },
  {
   "cell_type": "code",
   "execution_count": 35,
   "id": "878b4e5c",
   "metadata": {},
   "outputs": [],
   "source": [
    "#sigmoid-based annealing\n",
    "def get_beta_sigmoid(epoch, start_epoch):\n",
    "    return float(1 / (1 + np.exp(- (epoch - start_epoch - 25) / 10)))  # Smooth ramp\n",
    "\n",
    "# linear annealing over 100 epochs\n",
    "def get_beta_linear(epoch, start_epoch, total_epoch=100):\n",
    "    return min(1.0, (epoch - start_epoch) / total_epoch)\n",
    "\n",
    "# Training function\n",
    "def train_model(model, train_loader, optimizer, device, epoch, start_epoch, total_epoch=100, class_weights=None):\n",
    "    train_losses, train_metrics,  = [], []\n",
    "\n",
    "    model.train()\n",
    "    train_preds, train_targets = [], []\n",
    "    epoch_loss = 0\n",
    "    eopch_aleatoric = 0\n",
    "    epoch_epistemic = 0\n",
    "    #beta = linear_beta_schedule(epoch, epochs)\n",
    "    beta=get_beta_sigmoid(epoch, start_epoch)\n",
    "\n",
    "    for i,(images, labels) in enumerate(tqdm(train_loader, desc=\"Train\")):\n",
    "        images, labels = images.to(device), labels.to(device)\n",
    "\n",
    "        optimizer.zero_grad()\n",
    "        logits, log_var, kl = model(images)\n",
    "        #print(f\"Logits={logits} log var={log_var} KL Loss={kl}\")\n",
    "        logits = torch.clamp(logits, min=-30.0, max=30.0)\n",
    "        #print(\"logits max:\", logits.max().item(), \"min:\", logits.min().item())\n",
    "        loss, aleatoric, epstemic = bnn_loss(logits, log_var, labels, kl, class_weights, beta)\n",
    "        #print(f\"total loss={loss}, aleatoric uncertainty={aleatoric}, epistemic uncertainty={epstemic}\")\n",
    "\n",
    "        loss = loss / accum_steps\n",
    "        loss.backward()\n",
    "        if (i + 1) % accum_steps == 0 or (i + 1) == len(train_loader):\n",
    "            clip_grad_norm_(model.parameters(), max_norm=1.0)\n",
    "            optimizer.step()\n",
    "            optimizer.zero_grad()\n",
    "\n",
    "        epoch_loss += loss.item()\n",
    "        eopch_aleatoric += aleatoric.item()\n",
    "        epoch_epistemic += epstemic.item()\n",
    "        train_preds.extend((torch.sigmoid(logits) > 0.5).cpu().numpy())\n",
    "        train_targets.extend(labels.cpu().numpy())\n",
    "        \n",
    "#         if i==accum_steps:\n",
    "#             break\n",
    "\n",
    "    acc = accuracy_score(train_targets, train_preds)\n",
    "    prec = precision_score(train_targets, train_preds)\n",
    "    rec = recall_score(train_targets, train_preds)\n",
    "\n",
    "    N=len(train_loader)\n",
    "    train_losses.append((epoch_loss /N , eopch_aleatoric/N, epoch_epistemic/N))\n",
    "    train_metrics.append((acc, prec, rec))\n",
    "\n",
    "    return train_losses, train_metrics"
   ]
  },
  {
   "cell_type": "code",
   "execution_count": 36,
   "id": "ac3abc54",
   "metadata": {},
   "outputs": [],
   "source": [
    "def validate(model, loader, split, device, th=0.5, T=10):\n",
    "    # Validation loop\n",
    "    model.eval()\n",
    "    val_losses, val_metrics = [], []\n",
    "    val_preds, val_targets = [], []\n",
    "    val_epoch_loss = []\n",
    "    val_eopch_aleatoric = []\n",
    "    val_epoch_epistemic  = []\n",
    "    logits_lst, log_var_lst, kl_lst, var_logits_lst, entropy_lst=[], [], [], [], []\n",
    "\n",
    "    with torch.no_grad():\n",
    "        for images, labels in tqdm(loader):\n",
    "            images, labels = images.to(device), labels.to(device)\n",
    "            \n",
    "            logits_T, log_var_T, kl_T = [], [], []\n",
    "            \n",
    "            for _ in range(T):\n",
    "                logits, log_var, kl = model(images)\n",
    "                logits_T.append(logits)\n",
    "                log_var_T.append(log_var)\n",
    "                kl_T.append(kl)\n",
    "                \n",
    "            #print(f\"VAL Logits={logits} log var={log_var} KL Loss={kl}\")\n",
    "            logits_T = torch.stack(logits_T)        \n",
    "            log_var_T = torch.stack(log_var_T)\n",
    "            kl_T = torch.stack(kl_T)\n",
    "            \n",
    "            mean_logits = logits_T.mean(0)           \n",
    "            var_logits = logits_T.var(0)             \n",
    "\n",
    "            # Predictive entropy calculation\n",
    "            prob_T = torch.sigmoid(logits_T)         \n",
    "            mean_prob = prob_T.mean(0)              \n",
    "            entropy = - (mean_prob * torch.log(mean_prob + 1e-8) + \n",
    "                         (1 - mean_prob) * torch.log(1 - mean_prob + 1e-8))\n",
    "            \n",
    "            mean_log_var = log_var_T.mean(0)\n",
    "            mean_kl = kl_T.mean(0)\n",
    "            \n",
    "            logits_lst.append(mean_logits.cpu().numpy())\n",
    "            log_var_lst.append(mean_log_var.cpu().numpy())\n",
    "            kl_lst.append(mean_kl.cpu())\n",
    "            var_logits_lst.append(var_logits.cpu().numpy())\n",
    "            entropy_lst.append(entropy.cpu().numpy())\n",
    "            \n",
    "            loss, aleatoric, epstemic= bnn_loss(mean_logits, mean_log_var, labels, mean_kl)\n",
    "            val_epoch_loss.append(loss.item())\n",
    "            val_eopch_aleatoric.append(aleatoric.item())\n",
    "            val_epoch_epistemic.append(epstemic.item())\n",
    "            \n",
    "            val_preds.extend((torch.sigmoid(mean_logits) > th).cpu().numpy())\n",
    "            val_targets.extend(labels.cpu().numpy())\n",
    "            \n",
    "            \n",
    "\n",
    "    acc = accuracy_score(val_targets, val_preds)\n",
    "    prec = precision_score(val_targets, val_preds)\n",
    "    rec = recall_score(val_targets, val_preds)\n",
    "\n",
    "    N=len(loader)\n",
    "    val_losses.extend((sum(val_epoch_loss) /N,  sum(val_eopch_aleatoric)/N, sum(val_epoch_epistemic)/N))\n",
    "    val_metrics.extend((acc, prec, rec))\n",
    "    \n",
    "    # Combine into a dictionary\n",
    "    history = {\n",
    "        \"logits\": logits_lst,\n",
    "        \"log_var\": log_var_lst,\n",
    "        \"kl\":kl_lst,\n",
    "        \"var\":var_logits_lst,\n",
    "        \"entropy\":entropy_lst,\n",
    "        \"total_loss\": val_epoch_loss,\n",
    "        \"aleatoric_loss\":val_eopch_aleatoric,\n",
    "        \"epistemic_loss\":val_epoch_epistemic,\n",
    "        \"avg_losses\":val_losses,\n",
    "        \"avg_metrics\":val_metrics\n",
    "    }\n",
    "\n",
    "    # Save to a single pickle file\n",
    "    with open(split+\"_history.pkl\", \"wb\") as f:\n",
    "        pickle.dump(history, f)\n",
    "\n",
    "    return val_losses, val_metrics\n"
   ]
  },
  {
   "cell_type": "code",
   "execution_count": 37,
   "id": "677bbf74",
   "metadata": {},
   "outputs": [],
   "source": [
    "optimizer = optim.Adam(model.parameters(), lr=lr)"
   ]
  },
  {
   "cell_type": "code",
   "execution_count": 38,
   "id": "a1315db2",
   "metadata": {},
   "outputs": [],
   "source": [
    "def training(model, optimizer, start_epoch=0, checkpoint=None): \n",
    "    #training\n",
    "    torch.autograd.set_detect_anomaly(True)\n",
    "\n",
    "\n",
    "    early_stopping = EarlyStopping(patience=7, verbose=True, path='best_mybnn_model.pt')\n",
    "    \n",
    "    if checkpoint is not None:\n",
    "        all_wt_mu, all_wt_sigma, all_bias_mu, all_bias_sigma=checkpoint['wt_mu'], checkpoint['wt_sigma'], checkpoint['bias_mu'], checkpoint['bias_sigma']\n",
    "        losses, metrics=checkpoint['loss'], checkpoint['metrics']\n",
    "    \n",
    "    else:\n",
    "        all_wt_mu, all_wt_sigma, all_bias_mu, all_bias_sigma=[],[],[],[]\n",
    "        losses, metrics=[],[]\n",
    "\n",
    "    #for epoch in range(1):\n",
    "    for epoch in range(start_epoch,start_epoch+101):\n",
    "        train_loss, train_metrics = train_model(model, train_loader, optimizer, device, epoch, start_epoch)\n",
    "        print(f\"Epoch {epoch+1}/{epochs}, Loss: {train_loss}, Metrics={train_metrics}\")\n",
    "              #,Accuracy:{train_metrics[0]}, Precision:{train_metrics[1]}, recall: {train_metrics[2]}\")\n",
    "\n",
    "        losses.extend(train_loss)\n",
    "        metrics.extend(train_metrics)\n",
    "        # After each epoch, track mu and sigma\n",
    "\n",
    "        weight_mu_values = []\n",
    "        weight_sigma_values = []\n",
    "        bias_mu_values = []\n",
    "        bias_sigma_values = []\n",
    "\n",
    "        for name, module in model.named_modules():\n",
    "            if hasattr(module, 'weight_mu') and hasattr(module, 'weight_log_sigma'):\n",
    "                weight_mu_values.append(module.weight_mu.detach().cpu().flatten())\n",
    "                sigma = torch.exp(module.weight_log_sigma).detach().cpu().flatten()\n",
    "                weight_sigma_values.append(sigma)\n",
    "            if hasattr(module, 'bias_mu') and hasattr(module, 'bias_log_sigma'):\n",
    "                bias_mu_values.append(module.bias_mu.detach().cpu().flatten())\n",
    "                sigma = torch.exp(module.bias_log_sigma).detach().cpu().flatten()\n",
    "                bias_sigma_values.append(sigma)\n",
    "\n",
    "        all_wt_mu.extend([torch.cat(weight_mu_values).mean().item()])\n",
    "        all_wt_sigma.extend([torch.cat(weight_sigma_values).mean().item()])\n",
    "        all_bias_mu.extend([torch.cat(bias_mu_values).mean().item()])\n",
    "        all_bias_sigma.extend([torch.cat(bias_sigma_values).mean().item()])\n",
    "\n",
    "        #if (epoch+1)%5 == 0:\n",
    "        checkpoint={'epoch': epoch,\n",
    "                   'model_state_dict': model.state_dict(),\n",
    "                   'optimizer_state_dict': optimizer.state_dict(),\n",
    "                   'loss':losses,\n",
    "                   'metrics': metrics,\n",
    "                   'wt_mu' :all_wt_mu,\n",
    "                   'wt_sigma': all_wt_sigma,\n",
    "                   'bias_mu': all_bias_mu,\n",
    "                   'bias_sigma': all_bias_sigma}\n",
    "        #torch.save(checkpoint, 'checkpoint_'+epoch+'.pth')\n",
    "\n",
    "        test_losses, test_metrics = validate(model, test_loader, 'test', device, th=0.5)\n",
    "\n",
    "        early_stopping(test_losses[0], checkpoint)\n",
    "\n",
    "        if early_stopping.early_stop:\n",
    "            print(\"Early stopping triggered.\")\n",
    "            break\n",
    "\n",
    "    checkpoint={'epoch': epoch,\n",
    "               'model_state_dict': model.state_dict(),\n",
    "               'optimizer_state_dict': optimizer.state_dict(),\n",
    "               'loss':losses,\n",
    "               'metrics': metrics,\n",
    "               'wt_mu' :all_wt_mu,\n",
    "               'wt_sigma': all_wt_sigma,\n",
    "               'bias_mu': all_bias_mu,\n",
    "               'bias_sigma': all_bias_sigma}\n",
    "    torch.save(checkpoint, \"custom_bnn_vindr_final.pth\")"
   ]
  },
  {
   "cell_type": "code",
   "execution_count": 39,
   "id": "ae4d6823",
   "metadata": {},
   "outputs": [
    {
     "name": "stdout",
     "output_type": "stream",
     "text": [
      "best model epoch=63 loss=(2037479.111517976, 758.2251150266854, 25872198.055925433) metrics=(0.5093209054593875, 0.5094086021505376, 0.5046604527296937)\n"
     ]
    },
    {
     "data": {
      "application/vnd.jupyter.widget-view+json": {
       "model_id": "747df265e4774e34b672017f0afc4416",
       "version_major": 2,
       "version_minor": 0
      },
      "text/plain": [
       "Train:   0%|          | 0/751 [00:00<?, ?it/s]"
      ]
     },
     "metadata": {},
     "output_type": "display_data"
    },
    {
     "name": "stdout",
     "output_type": "stream",
     "text": [
      "Epoch 64/100, Loss: [(244587.85034537283, 768.4208233429484, 25789860.450066578)], Metrics=[(0.5026631158455392, 0.5025380710659898, 0.5272969374167776)]\n"
     ]
    },
    {
     "data": {
      "application/vnd.jupyter.widget-view+json": {
       "model_id": "5997dd9957bb449d9ba0fb0f98ab8b66",
       "version_major": 2,
       "version_minor": 0
      },
      "text/plain": [
       "  0%|          | 0/599 [00:00<?, ?it/s]"
      ]
     },
     "metadata": {},
     "output_type": "display_data"
    },
    {
     "name": "stdout",
     "output_type": "stream",
     "text": [
      "Validation loss decreased (inf --> 25747755.996661).  Saving model ...\n"
     ]
    },
    {
     "data": {
      "application/vnd.jupyter.widget-view+json": {
       "model_id": "daf5440863d444f48f2b403598cec600",
       "version_major": 2,
       "version_minor": 0
      },
      "text/plain": [
       "Train:   0%|          | 0/751 [00:00<?, ?it/s]"
      ]
     },
     "metadata": {},
     "output_type": "display_data"
    },
    {
     "name": "stdout",
     "output_type": "stream",
     "text": [
      "Epoch 65/100, Loss: [(267254.68962217047, 746.8333320480856, 25702127.73635153)], Metrics=[(0.5006657789613849, 0.5007032348804501, 0.474034620505992)]\n"
     ]
    },
    {
     "data": {
      "application/vnd.jupyter.widget-view+json": {
       "model_id": "00bbe1d125f9447496e2043469d0f6ad",
       "version_major": 2,
       "version_minor": 0
      },
      "text/plain": [
       "  0%|          | 0/599 [00:00<?, ?it/s]"
      ]
     },
     "metadata": {},
     "output_type": "display_data"
    },
    {
     "name": "stdout",
     "output_type": "stream",
     "text": [
      "Validation loss decreased (25747755.996661 --> 25655564.000000).  Saving model ...\n"
     ]
    },
    {
     "data": {
      "application/vnd.jupyter.widget-view+json": {
       "model_id": "babb1e9738c2418b89d9752268acadfe",
       "version_major": 2,
       "version_minor": 0
      },
      "text/plain": [
       "Train:   0%|          | 0/751 [00:00<?, ?it/s]"
      ]
     },
     "metadata": {},
     "output_type": "display_data"
    },
    {
     "name": "stdout",
     "output_type": "stream",
     "text": [
      "Epoch 66/100, Loss: [(291798.0042859521, 740.8153220571501, 25614092.40479361)], Metrics=[(0.5166444740346205, 0.5159642401021711, 0.5379494007989347)]\n"
     ]
    },
    {
     "data": {
      "application/vnd.jupyter.widget-view+json": {
       "model_id": "1e4cf0e5715343c891ab3c2ffcb2af18",
       "version_major": 2,
       "version_minor": 0
      },
      "text/plain": [
       "  0%|          | 0/599 [00:00<?, ?it/s]"
      ]
     },
     "metadata": {},
     "output_type": "display_data"
    },
    {
     "name": "stdout",
     "output_type": "stream",
     "text": [
      "Validation loss decreased (25655564.000000 --> 25572587.993322).  Saving model ...\n"
     ]
    },
    {
     "data": {
      "application/vnd.jupyter.widget-view+json": {
       "model_id": "83fbdc2ef5214fa4acb9e252a13e6bf0",
       "version_major": 2,
       "version_minor": 0
      },
      "text/plain": [
       "Train:   0%|          | 0/751 [00:00<?, ?it/s]"
      ]
     },
     "metadata": {},
     "output_type": "display_data"
    },
    {
     "name": "stdout",
     "output_type": "stream",
     "text": [
      "Epoch 67/100, Loss: [(318383.0102779627, 756.1792102029599, 25531099.467376832)], Metrics=[(0.4966711051930759, 0.4966442953020134, 0.49267643142476697)]\n"
     ]
    },
    {
     "data": {
      "application/vnd.jupyter.widget-view+json": {
       "model_id": "e99a857578fb47a290ca80f87caed058",
       "version_major": 2,
       "version_minor": 0
      },
      "text/plain": [
       "  0%|          | 0/599 [00:00<?, ?it/s]"
      ]
     },
     "metadata": {},
     "output_type": "display_data"
    },
    {
     "name": "stdout",
     "output_type": "stream",
     "text": [
      "Validation loss decreased (25572587.993322 --> 25487573.472454).  Saving model ...\n"
     ]
    },
    {
     "data": {
      "application/vnd.jupyter.widget-view+json": {
       "model_id": "bd60ac6424c04da4bbcaaf48c5577790",
       "version_major": 2,
       "version_minor": 0
      },
      "text/plain": [
       "Train:   0%|          | 0/751 [00:00<?, ?it/s]"
      ]
     },
     "metadata": {},
     "output_type": "display_data"
    },
    {
     "name": "stdout",
     "output_type": "stream",
     "text": [
      "Epoch 68/100, Loss: [(347043.2648551931, 759.9402145143042, 25444990.14114514)], Metrics=[(0.5, 0.5, 0.49267643142476697)]\n"
     ]
    },
    {
     "data": {
      "application/vnd.jupyter.widget-view+json": {
       "model_id": "c69e6e7ad2e94be3a7c55d22d435e8b0",
       "version_major": 2,
       "version_minor": 0
      },
      "text/plain": [
       "  0%|          | 0/599 [00:00<?, ?it/s]"
      ]
     },
     "metadata": {},
     "output_type": "display_data"
    },
    {
     "name": "stdout",
     "output_type": "stream",
     "text": [
      "Validation loss decreased (25487573.472454 --> 25402053.505843).  Saving model ...\n"
     ]
    },
    {
     "data": {
      "application/vnd.jupyter.widget-view+json": {
       "model_id": "54b3539764574228854047daee56275c",
       "version_major": 2,
       "version_minor": 0
      },
      "text/plain": [
       "Train:   0%|          | 0/751 [00:00<?, ?it/s]"
      ]
     },
     "metadata": {},
     "output_type": "display_data"
    },
    {
     "name": "stdout",
     "output_type": "stream",
     "text": [
      "Epoch 69/100, Loss: [(377891.41840046603, 747.222258274715, 25358246.681757655)], Metrics=[(0.5053262316910786, 0.5054495912806539, 0.4940079893475366)]\n"
     ]
    },
    {
     "data": {
      "application/vnd.jupyter.widget-view+json": {
       "model_id": "95cd36145af54fecbed000bb4b19a279",
       "version_major": 2,
       "version_minor": 0
      },
      "text/plain": [
       "  0%|          | 0/599 [00:00<?, ?it/s]"
      ]
     },
     "metadata": {},
     "output_type": "display_data"
    },
    {
     "name": "stdout",
     "output_type": "stream",
     "text": [
      "Validation loss decreased (25402053.505843 --> 25312753.459098).  Saving model ...\n"
     ]
    },
    {
     "data": {
      "application/vnd.jupyter.widget-view+json": {
       "model_id": "575a4e35d9b046989639a54827182218",
       "version_major": 2,
       "version_minor": 0
      },
      "text/plain": [
       "Train:   0%|          | 0/751 [00:00<?, ?it/s]"
      ]
     },
     "metadata": {},
     "output_type": "display_data"
    },
    {
     "name": "stdout",
     "output_type": "stream",
     "text": [
      "Epoch 70/100, Loss: [(410989.7858688416, 750.057616859025, 25268282.46604527)], Metrics=[(0.5099866844207723, 0.5102599179206566, 0.4966711051930759)]\n"
     ]
    },
    {
     "data": {
      "application/vnd.jupyter.widget-view+json": {
       "model_id": "51a2929c373c4b99a642f20f5fdddb53",
       "version_major": 2,
       "version_minor": 0
      },
      "text/plain": [
       "  0%|          | 0/599 [00:00<?, ?it/s]"
      ]
     },
     "metadata": {},
     "output_type": "display_data"
    },
    {
     "name": "stdout",
     "output_type": "stream",
     "text": [
      "Validation loss decreased (25312753.459098 --> 25221481.445743).  Saving model ...\n"
     ]
    },
    {
     "data": {
      "application/vnd.jupyter.widget-view+json": {
       "model_id": "65446a85fadb4945b692f6e6cb0e6d00",
       "version_major": 2,
       "version_minor": 0
      },
      "text/plain": [
       "Train:   0%|          | 0/751 [00:00<?, ?it/s]"
      ]
     },
     "metadata": {},
     "output_type": "display_data"
    },
    {
     "name": "stdout",
     "output_type": "stream",
     "text": [
      "Epoch 71/100, Loss: [(446468.31462217047, 754.7148458743635, 25176910.221038613)], Metrics=[(0.4960053262316911, 0.4959893048128342, 0.4940079893475366)]\n"
     ]
    },
    {
     "data": {
      "application/vnd.jupyter.widget-view+json": {
       "model_id": "0da5050d5082418b96e3bc6125b255ac",
       "version_major": 2,
       "version_minor": 0
      },
      "text/plain": [
       "  0%|          | 0/599 [00:00<?, ?it/s]"
      ]
     },
     "metadata": {},
     "output_type": "display_data"
    },
    {
     "name": "stdout",
     "output_type": "stream",
     "text": [
      "Validation loss decreased (25221481.445743 --> 25131152.000000).  Saving model ...\n"
     ]
    },
    {
     "data": {
      "application/vnd.jupyter.widget-view+json": {
       "model_id": "f2afd8d6e3e049f9906d4f35cf58b302",
       "version_major": 2,
       "version_minor": 0
      },
      "text/plain": [
       "Train:   0%|          | 0/751 [00:00<?, ?it/s]"
      ]
     },
     "metadata": {},
     "output_type": "display_data"
    },
    {
     "name": "stdout",
     "output_type": "stream",
     "text": [
      "Epoch 72/100, Loss: [(484392.28174933424, 736.8338930330408, 25085060.95339547)], Metrics=[(0.5133155792276964, 0.5144508670520231, 0.474034620505992)]\n"
     ]
    },
    {
     "data": {
      "application/vnd.jupyter.widget-view+json": {
       "model_id": "973734ef9e1f4110bb64dfc5dc9d5645",
       "version_major": 2,
       "version_minor": 0
      },
      "text/plain": [
       "  0%|          | 0/599 [00:00<?, ?it/s]"
      ]
     },
     "metadata": {},
     "output_type": "display_data"
    },
    {
     "name": "stdout",
     "output_type": "stream",
     "text": [
      "Validation loss decreased (25131152.000000 --> 25038604.000000).  Saving model ...\n"
     ]
    },
    {
     "data": {
      "application/vnd.jupyter.widget-view+json": {
       "model_id": "1dd7a3b3b0b7488a8f1c8b1584e3194c",
       "version_major": 2,
       "version_minor": 0
      },
      "text/plain": [
       "Train:   0%|          | 0/751 [00:00<?, ?it/s]"
      ]
     },
     "metadata": {},
     "output_type": "display_data"
    },
    {
     "name": "stdout",
     "output_type": "stream",
     "text": [
      "Epoch 73/100, Loss: [(524946.3201564581, 739.265966006478, 24997912.04260985)], Metrics=[(0.5326231691078562, 0.5338865836791148, 0.5139813581890812)]\n"
     ]
    },
    {
     "data": {
      "application/vnd.jupyter.widget-view+json": {
       "model_id": "f0916e9e27eb4515aae46b2502dd9c9f",
       "version_major": 2,
       "version_minor": 0
      },
      "text/plain": [
       "  0%|          | 0/599 [00:00<?, ?it/s]"
      ]
     },
     "metadata": {},
     "output_type": "display_data"
    },
    {
     "name": "stdout",
     "output_type": "stream",
     "text": [
      "Validation loss decreased (25038604.000000 --> 24957765.392321).  Saving model ...\n"
     ]
    },
    {
     "data": {
      "application/vnd.jupyter.widget-view+json": {
       "model_id": "6099c4c7c99b417c89bc122e189853ac",
       "version_major": 2,
       "version_minor": 0
      },
      "text/plain": [
       "Train:   0%|          | 0/751 [00:00<?, ?it/s]"
      ]
     },
     "metadata": {},
     "output_type": "display_data"
    },
    {
     "name": "stdout",
     "output_type": "stream",
     "text": [
      "Epoch 74/100, Loss: [(568206.9882656458, 756.5794279469324, 24915857.829560585)], Metrics=[(0.4833555259653795, 0.48299319727891155, 0.47270306258322237)]\n"
     ]
    },
    {
     "data": {
      "application/vnd.jupyter.widget-view+json": {
       "model_id": "34705742f2e24fdfab17619225ddf7a5",
       "version_major": 2,
       "version_minor": 0
      },
      "text/plain": [
       "  0%|          | 0/599 [00:00<?, ?it/s]"
      ]
     },
     "metadata": {},
     "output_type": "display_data"
    },
    {
     "name": "stdout",
     "output_type": "stream",
     "text": [
      "Validation loss decreased (24957765.392321 --> 24873973.402337).  Saving model ...\n"
     ]
    },
    {
     "data": {
      "application/vnd.jupyter.widget-view+json": {
       "model_id": "0b752619e158415a895d353a75511072",
       "version_major": 2,
       "version_minor": 0
      },
      "text/plain": [
       "Train:   0%|          | 0/751 [00:00<?, ?it/s]"
      ]
     },
     "metadata": {},
     "output_type": "display_data"
    },
    {
     "name": "stdout",
     "output_type": "stream",
     "text": [
      "Epoch 75/100, Loss: [(614014.2158788282, 776.1020022516431, 24830233.086551264)], Metrics=[(0.5026631158455392, 0.5027173913043478, 0.49267643142476697)]\n"
     ]
    },
    {
     "data": {
      "application/vnd.jupyter.widget-view+json": {
       "model_id": "a7f4f8f5bed2489d954b0a48ec17563b",
       "version_major": 2,
       "version_minor": 0
      },
      "text/plain": [
       "  0%|          | 0/599 [00:00<?, ?it/s]"
      ]
     },
     "metadata": {},
     "output_type": "display_data"
    },
    {
     "name": "stdout",
     "output_type": "stream",
     "text": [
      "Validation loss decreased (24873973.402337 --> 24784804.000000).  Saving model ...\n"
     ]
    },
    {
     "data": {
      "application/vnd.jupyter.widget-view+json": {
       "model_id": "42c27e5280ad49bcbb83402f8918ebac",
       "version_major": 2,
       "version_minor": 0
      },
      "text/plain": [
       "Train:   0%|          | 0/751 [00:00<?, ?it/s]"
      ]
     },
     "metadata": {},
     "output_type": "display_data"
    },
    {
     "name": "stdout",
     "output_type": "stream",
     "text": [
      "Epoch 76/100, Loss: [(662298.2321904128, 760.5222436762961, 24738149.4114514)], Metrics=[(0.5146471371504661, 0.5152777777777777, 0.4940079893475366)]\n"
     ]
    },
    {
     "data": {
      "application/vnd.jupyter.widget-view+json": {
       "model_id": "9ea4ba97a7d24f6d81659cb5b384f13b",
       "version_major": 2,
       "version_minor": 0
      },
      "text/plain": [
       "  0%|          | 0/599 [00:00<?, ?it/s]"
      ]
     },
     "metadata": {},
     "output_type": "display_data"
    },
    {
     "name": "stdout",
     "output_type": "stream",
     "text": [
      "Validation loss decreased (24784804.000000 --> 24692829.405676).  Saving model ...\n"
     ]
    },
    {
     "data": {
      "application/vnd.jupyter.widget-view+json": {
       "model_id": "161677b672fa4051af59228f5bf80387",
       "version_major": 2,
       "version_minor": 0
      },
      "text/plain": [
       "Train:   0%|          | 0/751 [00:00<?, ?it/s]"
      ]
     },
     "metadata": {},
     "output_type": "display_data"
    },
    {
     "name": "stdout",
     "output_type": "stream",
     "text": [
      "Epoch 77/100, Loss: [(713332.2382656458, 791.0642917373648, 24652143.03062583)], Metrics=[(0.4780292942743009, 0.4778523489932886, 0.474034620505992)]\n"
     ]
    },
    {
     "data": {
      "application/vnd.jupyter.widget-view+json": {
       "model_id": "4b2e245e39b648ecb77e8ec23383b756",
       "version_major": 2,
       "version_minor": 0
      },
      "text/plain": [
       "  0%|          | 0/599 [00:00<?, ?it/s]"
      ]
     },
     "metadata": {},
     "output_type": "display_data"
    },
    {
     "name": "stdout",
     "output_type": "stream",
     "text": [
      "Validation loss decreased (24692829.405676 --> 24606029.459098).  Saving model ...\n"
     ]
    },
    {
     "data": {
      "application/vnd.jupyter.widget-view+json": {
       "model_id": "9ca3dd52fe574946970054b024f92dd4",
       "version_major": 2,
       "version_minor": 0
      },
      "text/plain": [
       "Train:   0%|          | 0/751 [00:00<?, ?it/s]"
      ]
     },
     "metadata": {},
     "output_type": "display_data"
    },
    {
     "name": "stdout",
     "output_type": "stream",
     "text": [
      "Epoch 78/100, Loss: [(766792.2971038615, 787.0293690546071, 24561910.561917443)], Metrics=[(0.4973368841544607, 0.49727520435967304, 0.48601864181091875)]\n"
     ]
    },
    {
     "data": {
      "application/vnd.jupyter.widget-view+json": {
       "model_id": "af0955ae32cb4cfa9e788b648e437ab8",
       "version_major": 2,
       "version_minor": 0
      },
      "text/plain": [
       "  0%|          | 0/599 [00:00<?, ?it/s]"
      ]
     },
     "metadata": {},
     "output_type": "display_data"
    },
    {
     "name": "stdout",
     "output_type": "stream",
     "text": [
      "Validation loss decreased (24606029.459098 --> 24518761.395659).  Saving model ...\n"
     ]
    },
    {
     "data": {
      "application/vnd.jupyter.widget-view+json": {
       "model_id": "f8e3a4be35f04466915ea95c79f994a5",
       "version_major": 2,
       "version_minor": 0
      },
      "text/plain": [
       "Train:   0%|          | 0/751 [00:00<?, ?it/s]"
      ]
     },
     "metadata": {},
     "output_type": "display_data"
    },
    {
     "name": "stdout",
     "output_type": "stream",
     "text": [
      "Epoch 79/100, Loss: [(822898.3773302264, 802.7279312498935, 24476778.090545937)], Metrics=[(0.481358189081225, 0.48148148148148145, 0.48468708388814913)]\n"
     ]
    },
    {
     "data": {
      "application/vnd.jupyter.widget-view+json": {
       "model_id": "39da6c6c4b424c1693a8feee4589b2db",
       "version_major": 2,
       "version_minor": 0
      },
      "text/plain": [
       "  0%|          | 0/599 [00:00<?, ?it/s]"
      ]
     },
     "metadata": {},
     "output_type": "display_data"
    },
    {
     "name": "stdout",
     "output_type": "stream",
     "text": [
      "Validation loss decreased (24518761.395659 --> 24433020.000000).  Saving model ...\n"
     ]
    },
    {
     "data": {
      "application/vnd.jupyter.widget-view+json": {
       "model_id": "a3d45e7f8c2e42eaac11768d47dbbf24",
       "version_major": 2,
       "version_minor": 0
      },
      "text/plain": [
       "Train:   0%|          | 0/751 [00:00<?, ?it/s]"
      ]
     },
     "metadata": {},
     "output_type": "display_data"
    },
    {
     "name": "stdout",
     "output_type": "stream",
     "text": [
      "Epoch 80/100, Loss: [(881332.1793442077, 792.3722387200986, 24391394.55126498)], Metrics=[(0.4840213049267643, 0.48404255319148937, 0.48468708388814913)]\n"
     ]
    },
    {
     "data": {
      "application/vnd.jupyter.widget-view+json": {
       "model_id": "c1a60d89e2154986b325ad9a4217aa01",
       "version_major": 2,
       "version_minor": 0
      },
      "text/plain": [
       "  0%|          | 0/599 [00:00<?, ?it/s]"
      ]
     },
     "metadata": {},
     "output_type": "display_data"
    },
    {
     "name": "stdout",
     "output_type": "stream",
     "text": [
      "Validation loss decreased (24433020.000000 --> 24350241.485810).  Saving model ...\n"
     ]
    },
    {
     "data": {
      "application/vnd.jupyter.widget-view+json": {
       "model_id": "065660e7e8c647f88f14be5ee95d9f8c",
       "version_major": 2,
       "version_minor": 0
      },
      "text/plain": [
       "Train:   0%|          | 0/751 [00:00<?, ?it/s]"
      ]
     },
     "metadata": {},
     "output_type": "display_data"
    },
    {
     "name": "stdout",
     "output_type": "stream",
     "text": [
      "Epoch 81/100, Loss: [(941995.6745173102, 783.6411875150288, 24306558.657789614)], Metrics=[(0.49201065246338216, 0.49175824175824173, 0.4766977363515313)]\n"
     ]
    },
    {
     "data": {
      "application/vnd.jupyter.widget-view+json": {
       "model_id": "469ab0a68e844f8588182e10c625d40a",
       "version_major": 2,
       "version_minor": 0
      },
      "text/plain": [
       "  0%|          | 0/599 [00:00<?, ?it/s]"
      ]
     },
     "metadata": {},
     "output_type": "display_data"
    },
    {
     "name": "stdout",
     "output_type": "stream",
     "text": [
      "Validation loss decreased (24350241.485810 --> 24259468.000000).  Saving model ...\n"
     ]
    },
    {
     "data": {
      "application/vnd.jupyter.widget-view+json": {
       "model_id": "2432bdf8392e417684e5df00efffecd1",
       "version_major": 2,
       "version_minor": 0
      },
      "text/plain": [
       "Train:   0%|          | 0/751 [00:00<?, ?it/s]"
      ]
     },
     "metadata": {},
     "output_type": "display_data"
    },
    {
     "name": "stdout",
     "output_type": "stream",
     "text": [
      "Epoch 82/100, Loss: [(1004408.5415279627, 795.4204125830115, 24215166.857523303)], Metrics=[(0.46870838881491345, 0.46936114732724904, 0.4793608521970706)]\n"
     ]
    },
    {
     "data": {
      "application/vnd.jupyter.widget-view+json": {
       "model_id": "bc0429633ac64168be307948fbb8f0a0",
       "version_major": 2,
       "version_minor": 0
      },
      "text/plain": [
       "  0%|          | 0/599 [00:00<?, ?it/s]"
      ]
     },
     "metadata": {},
     "output_type": "display_data"
    },
    {
     "name": "stdout",
     "output_type": "stream",
     "text": [
      "Validation loss decreased (24259468.000000 --> 24169565.402337).  Saving model ...\n"
     ]
    },
    {
     "data": {
      "application/vnd.jupyter.widget-view+json": {
       "model_id": "46ae84294d9c43da897f3ffa0d6299ea",
       "version_major": 2,
       "version_minor": 0
      },
      "text/plain": [
       "Train:   0%|          | 0/751 [00:00<?, ?it/s]"
      ]
     },
     "metadata": {},
     "output_type": "display_data"
    },
    {
     "name": "stdout",
     "output_type": "stream",
     "text": [
      "Epoch 83/100, Loss: [(1068719.6418109187, 796.3174210852704, 24127554.090545937)], Metrics=[(0.4993342210386152, 0.49929676511954996, 0.47270306258322237)]\n"
     ]
    },
    {
     "data": {
      "application/vnd.jupyter.widget-view+json": {
       "model_id": "84929319724046f3a0feffd88a75f10d",
       "version_major": 2,
       "version_minor": 0
      },
      "text/plain": [
       "  0%|          | 0/599 [00:00<?, ?it/s]"
      ]
     },
     "metadata": {},
     "output_type": "display_data"
    },
    {
     "name": "stdout",
     "output_type": "stream",
     "text": [
      "Validation loss decreased (24169565.402337 --> 24081324.000000).  Saving model ...\n"
     ]
    },
    {
     "data": {
      "application/vnd.jupyter.widget-view+json": {
       "model_id": "996c32884cb64c6b848c2477efe1912f",
       "version_major": 2,
       "version_minor": 0
      },
      "text/plain": [
       "Train:   0%|          | 0/751 [00:00<?, ?it/s]"
      ]
     },
     "metadata": {},
     "output_type": "display_data"
    },
    {
     "name": "stdout",
     "output_type": "stream",
     "text": [
      "Epoch 84/100, Loss: [(1134349.6341544606, 811.3075264249331, 24036001.379494008)], Metrics=[(0.5093209054593875, 0.5093085106382979, 0.5099866844207723)]\n"
     ]
    },
    {
     "data": {
      "application/vnd.jupyter.widget-view+json": {
       "model_id": "f0fe2e31ed0e4045a30747cac21b6d17",
       "version_major": 2,
       "version_minor": 0
      },
      "text/plain": [
       "  0%|          | 0/599 [00:00<?, ?it/s]"
      ]
     },
     "metadata": {},
     "output_type": "display_data"
    },
    {
     "name": "stdout",
     "output_type": "stream",
     "text": [
      "Validation loss decreased (24081324.000000 --> 23990588.000000).  Saving model ...\n"
     ]
    },
    {
     "data": {
      "application/vnd.jupyter.widget-view+json": {
       "model_id": "f066d9479a9842a885d310fedb1edfcb",
       "version_major": 2,
       "version_minor": 0
      },
      "text/plain": [
       "Train:   0%|          | 0/751 [00:00<?, ?it/s]"
      ]
     },
     "metadata": {},
     "output_type": "display_data"
    },
    {
     "name": "stdout",
     "output_type": "stream",
     "text": [
      "Epoch 85/100, Loss: [(1201259.101864181, 802.5262149347891, 23945896.950732358)], Metrics=[(0.5079893475366178, 0.5080213903743316, 0.5059920106524634)]\n"
     ]
    },
    {
     "data": {
      "application/vnd.jupyter.widget-view+json": {
       "model_id": "00212f00465b4b2eb7dca1ba9a7b043f",
       "version_major": 2,
       "version_minor": 0
      },
      "text/plain": [
       "  0%|          | 0/599 [00:00<?, ?it/s]"
      ]
     },
     "metadata": {},
     "output_type": "display_data"
    },
    {
     "name": "stdout",
     "output_type": "stream",
     "text": [
      "Validation loss decreased (23990588.000000 --> 23899601.455760).  Saving model ...\n"
     ]
    },
    {
     "data": {
      "application/vnd.jupyter.widget-view+json": {
       "model_id": "435628acdb5842208a70c4bf56f5c1ab",
       "version_major": 2,
       "version_minor": 0
      },
      "text/plain": [
       "Train:   0%|          | 0/751 [00:00<?, ?it/s]"
      ]
     },
     "metadata": {},
     "output_type": "display_data"
    },
    {
     "name": "stdout",
     "output_type": "stream",
     "text": [
      "Epoch 86/100, Loss: [(1269028.5267976031, 793.1579088287065, 23855674.96671105)], Metrics=[(0.5059920106524634, 0.5059132720105125, 0.5126498002663116)]\n"
     ]
    },
    {
     "data": {
      "application/vnd.jupyter.widget-view+json": {
       "model_id": "aad71bfa711e4f6c94fd74deb1c5a963",
       "version_major": 2,
       "version_minor": 0
      },
      "text/plain": [
       "  0%|          | 0/599 [00:00<?, ?it/s]"
      ]
     },
     "metadata": {},
     "output_type": "display_data"
    },
    {
     "name": "stdout",
     "output_type": "stream",
     "text": [
      "Validation loss decreased (23899601.455760 --> 23808981.439065).  Saving model ...\n"
     ]
    },
    {
     "data": {
      "application/vnd.jupyter.widget-view+json": {
       "model_id": "24e978e962ff4bdc847932b9b915b536",
       "version_major": 2,
       "version_minor": 0
      },
      "text/plain": [
       "Train:   0%|          | 0/751 [00:00<?, ?it/s]"
      ]
     },
     "metadata": {},
     "output_type": "display_data"
    },
    {
     "name": "stdout",
     "output_type": "stream",
     "text": [
      "Epoch 87/100, Loss: [(1337354.1163448736, 799.5236695422492, 23765784.91611185)], Metrics=[(0.4806924101198402, 0.47994467496542187, 0.4620505992010652)]\n"
     ]
    },
    {
     "data": {
      "application/vnd.jupyter.widget-view+json": {
       "model_id": "29b4724a7a9b48b994ff3ef1cb50ad7a",
       "version_major": 2,
       "version_minor": 0
      },
      "text/plain": [
       "  0%|          | 0/599 [00:00<?, ?it/s]"
      ]
     },
     "metadata": {},
     "output_type": "display_data"
    },
    {
     "name": "stdout",
     "output_type": "stream",
     "text": [
      "Validation loss decreased (23808981.439065 --> 23723612.000000).  Saving model ...\n"
     ]
    },
    {
     "data": {
      "application/vnd.jupyter.widget-view+json": {
       "model_id": "8372733508794e24b3c929730482c909",
       "version_major": 2,
       "version_minor": 0
      },
      "text/plain": [
       "Train:   0%|          | 0/751 [00:00<?, ?it/s]"
      ]
     },
     "metadata": {},
     "output_type": "display_data"
    },
    {
     "name": "stdout",
     "output_type": "stream",
     "text": [
      "Epoch 88/100, Loss: [(1406091.742343542, 806.0236954424025, 23679937.992010653)], Metrics=[(0.5226364846870839, 0.5234806629834254, 0.5046604527296937)]\n"
     ]
    },
    {
     "data": {
      "application/vnd.jupyter.widget-view+json": {
       "model_id": "df201b5ab2194381b498555c643dd63f",
       "version_major": 2,
       "version_minor": 0
      },
      "text/plain": [
       "  0%|          | 0/599 [00:00<?, ?it/s]"
      ]
     },
     "metadata": {},
     "output_type": "display_data"
    },
    {
     "name": "stdout",
     "output_type": "stream",
     "text": [
      "Validation loss decreased (23723612.000000 --> 23634805.365609).  Saving model ...\n"
     ]
    },
    {
     "data": {
      "application/vnd.jupyter.widget-view+json": {
       "model_id": "eb8db3d349c749019cef5422a8aedba0",
       "version_major": 2,
       "version_minor": 0
      },
      "text/plain": [
       "Train:   0%|          | 0/751 [00:00<?, ?it/s]"
      ]
     },
     "metadata": {},
     "output_type": "display_data"
    },
    {
     "name": "stdout",
     "output_type": "stream",
     "text": [
      "Epoch 89/100, Loss: [(1474569.5667443408, 813.0056316144872, 23592604.1011984)], Metrics=[(0.4873501997336884, 0.4864479315263909, 0.4540612516644474)]\n"
     ]
    },
    {
     "data": {
      "application/vnd.jupyter.widget-view+json": {
       "model_id": "97467cbdbf62464fa33a3765633a0378",
       "version_major": 2,
       "version_minor": 0
      },
      "text/plain": [
       "  0%|          | 0/599 [00:00<?, ?it/s]"
      ]
     },
     "metadata": {},
     "output_type": "display_data"
    },
    {
     "name": "stdout",
     "output_type": "stream",
     "text": [
      "Validation loss decreased (23634805.365609 --> 23550988.000000).  Saving model ...\n"
     ]
    },
    {
     "data": {
      "application/vnd.jupyter.widget-view+json": {
       "model_id": "f165cc2b01874efb8e862bd19819408b",
       "version_major": 2,
       "version_minor": 0
      },
      "text/plain": [
       "Train:   0%|          | 0/751 [00:00<?, ?it/s]"
      ]
     },
     "metadata": {},
     "output_type": "display_data"
    },
    {
     "name": "stdout",
     "output_type": "stream",
     "text": [
      "Epoch 90/100, Loss: [(1542633.4317576564, 804.809226385745, 23507100.83355526)], Metrics=[(0.4806924101198402, 0.47994467496542187, 0.4620505992010652)]\n"
     ]
    },
    {
     "data": {
      "application/vnd.jupyter.widget-view+json": {
       "model_id": "17944a93ece74408832123d51abcc10d",
       "version_major": 2,
       "version_minor": 0
      },
      "text/plain": [
       "  0%|          | 0/599 [00:00<?, ?it/s]"
      ]
     },
     "metadata": {},
     "output_type": "display_data"
    },
    {
     "name": "stdout",
     "output_type": "stream",
     "text": [
      "Validation loss decreased (23550988.000000 --> 23462161.348915).  Saving model ...\n"
     ]
    },
    {
     "data": {
      "application/vnd.jupyter.widget-view+json": {
       "model_id": "82b4f47d8c9241f8b069d110a0f67b5d",
       "version_major": 2,
       "version_minor": 0
      },
      "text/plain": [
       "Train:   0%|          | 0/751 [00:00<?, ?it/s]"
      ]
     },
     "metadata": {},
     "output_type": "display_data"
    },
    {
     "name": "stdout",
     "output_type": "stream",
     "text": [
      "Epoch 91/100, Loss: [(1609522.5585885486, 810.8416141717705, 23417828.03728362)], Metrics=[(0.5133155792276964, 0.5136612021857924, 0.5006657789613849)]\n"
     ]
    },
    {
     "data": {
      "application/vnd.jupyter.widget-view+json": {
       "model_id": "cfd878d6efa341b79bebb676f031eeb9",
       "version_major": 2,
       "version_minor": 0
      },
      "text/plain": [
       "  0%|          | 0/599 [00:00<?, ?it/s]"
      ]
     },
     "metadata": {},
     "output_type": "display_data"
    },
    {
     "name": "stdout",
     "output_type": "stream",
     "text": [
      "Validation loss decreased (23462161.348915 --> 23372189.412354).  Saving model ...\n"
     ]
    },
    {
     "data": {
      "application/vnd.jupyter.widget-view+json": {
       "model_id": "de5388b26b40464dbecd00374c933f56",
       "version_major": 2,
       "version_minor": 0
      },
      "text/plain": [
       "Train:   0%|          | 0/751 [00:00<?, ?it/s]"
      ]
     },
     "metadata": {},
     "output_type": "display_data"
    },
    {
     "name": "stdout",
     "output_type": "stream",
     "text": [
      "Epoch 92/100, Loss: [(1675169.585219707, 804.6517496463134, 23328836.753661785)], Metrics=[(0.503994673768309, 0.504, 0.5033288948069241)]\n"
     ]
    },
    {
     "data": {
      "application/vnd.jupyter.widget-view+json": {
       "model_id": "377fff1d526f40b49b897c6c33efa59e",
       "version_major": 2,
       "version_minor": 0
      },
      "text/plain": [
       "  0%|          | 0/599 [00:00<?, ?it/s]"
      ]
     },
     "metadata": {},
     "output_type": "display_data"
    },
    {
     "name": "stdout",
     "output_type": "stream",
     "text": [
      "Validation loss decreased (23372189.412354 --> 23283969.325543).  Saving model ...\n"
     ]
    },
    {
     "data": {
      "application/vnd.jupyter.widget-view+json": {
       "model_id": "4d6fb277bb1e4175b0961bfa175b31dc",
       "version_major": 2,
       "version_minor": 0
      },
      "text/plain": [
       "Train:   0%|          | 0/751 [00:00<?, ?it/s]"
      ]
     },
     "metadata": {},
     "output_type": "display_data"
    },
    {
     "name": "stdout",
     "output_type": "stream",
     "text": [
      "Epoch 93/100, Loss: [(1739246.2380159786, 818.9641356560846, 23240294.19973369)], Metrics=[(0.4993342210386152, 0.4993288590604027, 0.49533954727030627)]\n"
     ]
    },
    {
     "data": {
      "application/vnd.jupyter.widget-view+json": {
       "model_id": "21959be232bd4a6eb840962af0fcb6bb",
       "version_major": 2,
       "version_minor": 0
      },
      "text/plain": [
       "  0%|          | 0/599 [00:00<?, ?it/s]"
      ]
     },
     "metadata": {},
     "output_type": "display_data"
    },
    {
     "name": "stdout",
     "output_type": "stream",
     "text": [
      "Validation loss decreased (23283969.325543 --> 23195765.325543).  Saving model ...\n"
     ]
    },
    {
     "data": {
      "application/vnd.jupyter.widget-view+json": {
       "model_id": "94b9a3a3d46c4e9fab7652d0277b90ec",
       "version_major": 2,
       "version_minor": 0
      },
      "text/plain": [
       "Train:   0%|          | 0/751 [00:00<?, ?it/s]"
      ]
     },
     "metadata": {},
     "output_type": "display_data"
    },
    {
     "name": "stdout",
     "output_type": "stream",
     "text": [
      "Epoch 94/100, Loss: [(1801462.7844540612, 821.4642182845735, 23152429.001331557)], Metrics=[(0.5006657789613849, 0.5006622516556292, 0.5033288948069241)]\n"
     ]
    },
    {
     "data": {
      "application/vnd.jupyter.widget-view+json": {
       "model_id": "cdb4497891594037bd2488f6803188c9",
       "version_major": 2,
       "version_minor": 0
      },
      "text/plain": [
       "  0%|          | 0/599 [00:00<?, ?it/s]"
      ]
     },
     "metadata": {},
     "output_type": "display_data"
    },
    {
     "name": "stdout",
     "output_type": "stream",
     "text": [
      "Validation loss decreased (23195765.325543 --> 23108045.348915).  Saving model ...\n"
     ]
    },
    {
     "data": {
      "application/vnd.jupyter.widget-view+json": {
       "model_id": "6d944b9c8cb04f50bb3523873b7184d3",
       "version_major": 2,
       "version_minor": 0
      },
      "text/plain": [
       "Train:   0%|          | 0/751 [00:00<?, ?it/s]"
      ]
     },
     "metadata": {},
     "output_type": "display_data"
    },
    {
     "name": "stdout",
     "output_type": "stream",
     "text": [
      "Epoch 95/100, Loss: [(1861609.5937083887, 831.4786814654364, 23065868.191744342)], Metrics=[(0.4866844207723036, 0.4863013698630137, 0.47270306258322237)]\n"
     ]
    },
    {
     "data": {
      "application/vnd.jupyter.widget-view+json": {
       "model_id": "12d70489ffe940f8b90a630d0c9f1378",
       "version_major": 2,
       "version_minor": 0
      },
      "text/plain": [
       "  0%|          | 0/599 [00:00<?, ?it/s]"
      ]
     },
     "metadata": {},
     "output_type": "display_data"
    },
    {
     "name": "stdout",
     "output_type": "stream",
     "text": [
      "Validation loss decreased (23108045.348915 --> 23021712.000000).  Saving model ...\n"
     ]
    },
    {
     "data": {
      "application/vnd.jupyter.widget-view+json": {
       "model_id": "b1265682cb164473a4b56005d18bfd23",
       "version_major": 2,
       "version_minor": 0
      },
      "text/plain": [
       "Train:   0%|          | 0/751 [00:00<?, ?it/s]"
      ]
     },
     "metadata": {},
     "output_type": "display_data"
    },
    {
     "name": "stdout",
     "output_type": "stream",
     "text": [
      "Epoch 96/100, Loss: [(1919323.4034620507, 832.8578613269613, 22979131.914780293)], Metrics=[(0.5013315579227696, 0.5014367816091954, 0.4647137150466045)]\n"
     ]
    },
    {
     "data": {
      "application/vnd.jupyter.widget-view+json": {
       "model_id": "03b7d31142c8403ab5f424f76221fc1f",
       "version_major": 2,
       "version_minor": 0
      },
      "text/plain": [
       "  0%|          | 0/599 [00:00<?, ?it/s]"
      ]
     },
     "metadata": {},
     "output_type": "display_data"
    },
    {
     "name": "stdout",
     "output_type": "stream",
     "text": [
      "Validation loss decreased (23021712.000000 --> 22936017.375626).  Saving model ...\n"
     ]
    },
    {
     "data": {
      "application/vnd.jupyter.widget-view+json": {
       "model_id": "8c3b6d113c30404ea79cafbb579af2fa",
       "version_major": 2,
       "version_minor": 0
      },
      "text/plain": [
       "Train:   0%|          | 0/751 [00:00<?, ?it/s]"
      ]
     },
     "metadata": {},
     "output_type": "display_data"
    },
    {
     "name": "stdout",
     "output_type": "stream",
     "text": [
      "Epoch 97/100, Loss: [(1974537.9920106526, 819.004946965916, 22893619.17443409)], Metrics=[(0.5053262316910786, 0.5054347826086957, 0.49533954727030627)]\n"
     ]
    },
    {
     "data": {
      "application/vnd.jupyter.widget-view+json": {
       "model_id": "e83423ab8f0843c39ca128d568fd55ae",
       "version_major": 2,
       "version_minor": 0
      },
      "text/plain": [
       "  0%|          | 0/599 [00:00<?, ?it/s]"
      ]
     },
     "metadata": {},
     "output_type": "display_data"
    },
    {
     "name": "stdout",
     "output_type": "stream",
     "text": [
      "Validation loss decreased (22936017.375626 --> 22850809.352254).  Saving model ...\n"
     ]
    },
    {
     "data": {
      "application/vnd.jupyter.widget-view+json": {
       "model_id": "96081c9ca2584b4e951b81ac5d72d4b6",
       "version_major": 2,
       "version_minor": 0
      },
      "text/plain": [
       "Train:   0%|          | 0/751 [00:00<?, ?it/s]"
      ]
     },
     "metadata": {},
     "output_type": "display_data"
    },
    {
     "name": "stdout",
     "output_type": "stream",
     "text": [
      "Epoch 98/100, Loss: [(2027257.6835885486, 840.3817155791135, 22811418.88415446)], Metrics=[(0.4733688415446072, 0.47093023255813954, 0.43142476697736354)]\n"
     ]
    },
    {
     "data": {
      "application/vnd.jupyter.widget-view+json": {
       "model_id": "82d0466a082b4b2aad3c51ac3317b4b4",
       "version_major": 2,
       "version_minor": 0
      },
      "text/plain": [
       "  0%|          | 0/599 [00:00<?, ?it/s]"
      ]
     },
     "metadata": {},
     "output_type": "display_data"
    },
    {
     "name": "stdout",
     "output_type": "stream",
     "text": [
      "Validation loss decreased (22850809.352254 --> 22769197.365609).  Saving model ...\n"
     ]
    },
    {
     "data": {
      "application/vnd.jupyter.widget-view+json": {
       "model_id": "d9cd726c912548fd966e52ebde55e0f4",
       "version_major": 2,
       "version_minor": 0
      },
      "text/plain": [
       "Train:   0%|          | 0/751 [00:00<?, ?it/s]"
      ]
     },
     "metadata": {},
     "output_type": "display_data"
    },
    {
     "name": "stdout",
     "output_type": "stream",
     "text": [
      "Epoch 99/100, Loss: [(2076935.259653795, 850.3313036624496, 22727705.222370174)], Metrics=[(0.5013315579227696, 0.5014005602240896, 0.4766977363515313)]\n"
     ]
    },
    {
     "data": {
      "application/vnd.jupyter.widget-view+json": {
       "model_id": "8d77eac1dbfe4fbdbf50008f29a9aa24",
       "version_major": 2,
       "version_minor": 0
      },
      "text/plain": [
       "  0%|          | 0/599 [00:00<?, ?it/s]"
      ]
     },
     "metadata": {},
     "output_type": "display_data"
    },
    {
     "name": "stdout",
     "output_type": "stream",
     "text": [
      "Validation loss decreased (22769197.365609 --> 22683708.000000).  Saving model ...\n"
     ]
    },
    {
     "data": {
      "application/vnd.jupyter.widget-view+json": {
       "model_id": "404df4d8ff554018a6596cd15edccc59",
       "version_major": 2,
       "version_minor": 0
      },
      "text/plain": [
       "Train:   0%|          | 0/751 [00:00<?, ?it/s]"
      ]
     },
     "metadata": {},
     "output_type": "display_data"
    },
    {
     "name": "stdout",
     "output_type": "stream",
     "text": [
      "Epoch 100/100, Loss: [(2123241.6081890813, 842.7322122832537, 22639746.94274301)], Metrics=[(0.503994673768309, 0.5040760869565217, 0.4940079893475366)]\n"
     ]
    },
    {
     "data": {
      "application/vnd.jupyter.widget-view+json": {
       "model_id": "c2d23287ba5e468582e531fbf2a9ead1",
       "version_major": 2,
       "version_minor": 0
      },
      "text/plain": [
       "  0%|          | 0/599 [00:00<?, ?it/s]"
      ]
     },
     "metadata": {},
     "output_type": "display_data"
    },
    {
     "name": "stdout",
     "output_type": "stream",
     "text": [
      "Validation loss decreased (22683708.000000 --> 22594445.385643).  Saving model ...\n"
     ]
    },
    {
     "data": {
      "application/vnd.jupyter.widget-view+json": {
       "model_id": "4e418f38694740da9dab5500196c253f",
       "version_major": 2,
       "version_minor": 0
      },
      "text/plain": [
       "Train:   0%|          | 0/751 [00:00<?, ?it/s]"
      ]
     },
     "metadata": {},
     "output_type": "display_data"
    },
    {
     "name": "stdout",
     "output_type": "stream",
     "text": [
      "Epoch 101/100, Loss: [(2166950.7296937415, 837.2932661069623, 22556705.16644474)], Metrics=[(0.5079893475366178, 0.5084507042253521, 0.4806924101198402)]\n"
     ]
    },
    {
     "data": {
      "application/vnd.jupyter.widget-view+json": {
       "model_id": "fd2257269fea4659a06fd50009682de8",
       "version_major": 2,
       "version_minor": 0
      },
      "text/plain": [
       "  0%|          | 0/599 [00:00<?, ?it/s]"
      ]
     },
     "metadata": {},
     "output_type": "display_data"
    },
    {
     "name": "stdout",
     "output_type": "stream",
     "text": [
      "Validation loss decreased (22594445.385643 --> 22516208.000000).  Saving model ...\n"
     ]
    },
    {
     "data": {
      "application/vnd.jupyter.widget-view+json": {
       "model_id": "7bb20de0402e4419b43fb26a1bb6252d",
       "version_major": 2,
       "version_minor": 0
      },
      "text/plain": [
       "Train:   0%|          | 0/751 [00:00<?, ?it/s]"
      ]
     },
     "metadata": {},
     "output_type": "display_data"
    },
    {
     "name": "stdout",
     "output_type": "stream",
     "text": [
      "Epoch 102/100, Loss: [(2207551.3042609855, 853.9395250550452, 22473245.53928096)], Metrics=[(0.5066577896138482, 0.5071428571428571, 0.47270306258322237)]\n"
     ]
    },
    {
     "data": {
      "application/vnd.jupyter.widget-view+json": {
       "model_id": "546df1e6fb54424682726825b29c1163",
       "version_major": 2,
       "version_minor": 0
      },
      "text/plain": [
       "  0%|          | 0/599 [00:00<?, ?it/s]"
      ]
     },
     "metadata": {},
     "output_type": "display_data"
    },
    {
     "name": "stdout",
     "output_type": "stream",
     "text": [
      "Validation loss decreased (22516208.000000 --> 22428444.000000).  Saving model ...\n"
     ]
    },
    {
     "data": {
      "application/vnd.jupyter.widget-view+json": {
       "model_id": "8763016adbf24dca91d4fc9a237a7eaa",
       "version_major": 2,
       "version_minor": 0
      },
      "text/plain": [
       "Train:   0%|          | 0/751 [00:00<?, ?it/s]"
      ]
     },
     "metadata": {},
     "output_type": "display_data"
    },
    {
     "name": "stdout",
     "output_type": "stream",
     "text": [
      "Epoch 103/100, Loss: [(2244676.022969374, 867.5054160148181, 22385351.946737684)], Metrics=[(0.5199733688415447, 0.5202702702702703, 0.5126498002663116)]\n"
     ]
    },
    {
     "data": {
      "application/vnd.jupyter.widget-view+json": {
       "model_id": "66263710d8a94563b9333aa36eff705c",
       "version_major": 2,
       "version_minor": 0
      },
      "text/plain": [
       "  0%|          | 0/599 [00:00<?, ?it/s]"
      ]
     },
     "metadata": {},
     "output_type": "display_data"
    },
    {
     "name": "stdout",
     "output_type": "stream",
     "text": [
      "Validation loss decreased (22428444.000000 --> 22341028.000000).  Saving model ...\n"
     ]
    },
    {
     "data": {
      "application/vnd.jupyter.widget-view+json": {
       "model_id": "eda30e982c5044e3babfd471e0c1f82a",
       "version_major": 2,
       "version_minor": 0
      },
      "text/plain": [
       "Train:   0%|          | 0/751 [00:00<?, ?it/s]"
      ]
     },
     "metadata": {},
     "output_type": "display_data"
    },
    {
     "name": "stdout",
     "output_type": "stream",
     "text": [
      "Epoch 104/100, Loss: [(2278693.2959387484, 859.3985442695947, 22296907.893475365)], Metrics=[(0.5, 0.5, 0.4580559254327563)]\n"
     ]
    },
    {
     "data": {
      "application/vnd.jupyter.widget-view+json": {
       "model_id": "deb9aea941234076905ea3a3b8999e32",
       "version_major": 2,
       "version_minor": 0
      },
      "text/plain": [
       "  0%|          | 0/599 [00:00<?, ?it/s]"
      ]
     },
     "metadata": {},
     "output_type": "display_data"
    },
    {
     "name": "stdout",
     "output_type": "stream",
     "text": [
      "Validation loss decreased (22341028.000000 --> 22253165.232053).  Saving model ...\n"
     ]
    },
    {
     "data": {
      "application/vnd.jupyter.widget-view+json": {
       "model_id": "f231342e506e44b69dbcf2c91f8b0f78",
       "version_major": 2,
       "version_minor": 0
      },
      "text/plain": [
       "Train:   0%|          | 0/751 [00:00<?, ?it/s]"
      ]
     },
     "metadata": {},
     "output_type": "display_data"
    },
    {
     "name": "stdout",
     "output_type": "stream",
     "text": [
      "Epoch 105/100, Loss: [(2310226.8438748335, 850.091701186618, 22213020.08255659)], Metrics=[(0.49267643142476697, 0.4922425952045134, 0.4647137150466045)]\n"
     ]
    },
    {
     "data": {
      "application/vnd.jupyter.widget-view+json": {
       "model_id": "8599948bd0ac473dace9afd86b1e95ee",
       "version_major": 2,
       "version_minor": 0
      },
      "text/plain": [
       "  0%|          | 0/599 [00:00<?, ?it/s]"
      ]
     },
     "metadata": {},
     "output_type": "display_data"
    },
    {
     "name": "stdout",
     "output_type": "stream",
     "text": [
      "Validation loss decreased (22253165.232053 --> 22171241.265442).  Saving model ...\n"
     ]
    },
    {
     "data": {
      "application/vnd.jupyter.widget-view+json": {
       "model_id": "bd691eeed4db46399cc05cd42f54d3e2",
       "version_major": 2,
       "version_minor": 0
      },
      "text/plain": [
       "Train:   0%|          | 0/751 [00:00<?, ?it/s]"
      ]
     },
     "metadata": {},
     "output_type": "display_data"
    },
    {
     "name": "stdout",
     "output_type": "stream",
     "text": [
      "Epoch 106/100, Loss: [(2338944.946071904, 871.3732928971201, 22129584.138482023)], Metrics=[(0.5059920106524634, 0.5067466266866567, 0.45006657789613846)]\n"
     ]
    },
    {
     "data": {
      "application/vnd.jupyter.widget-view+json": {
       "model_id": "b5bdb9388ad5416eb73f42c67881d3f7",
       "version_major": 2,
       "version_minor": 0
      },
      "text/plain": [
       "  0%|          | 0/599 [00:00<?, ?it/s]"
      ]
     },
     "metadata": {},
     "output_type": "display_data"
    },
    {
     "name": "stdout",
     "output_type": "stream",
     "text": [
      "Validation loss decreased (22171241.265442 --> 22086676.000000).  Saving model ...\n"
     ]
    },
    {
     "data": {
      "application/vnd.jupyter.widget-view+json": {
       "model_id": "d48c79b722bc4b60aa522e557285c415",
       "version_major": 2,
       "version_minor": 0
      },
      "text/plain": [
       "Train:   0%|          | 0/751 [00:00<?, ?it/s]"
      ]
     },
     "metadata": {},
     "output_type": "display_data"
    },
    {
     "name": "stdout",
     "output_type": "stream",
     "text": [
      "Epoch 107/100, Loss: [(2364564.9027962717, 869.2394855317708, 22043191.81890812)], Metrics=[(0.4933422103861518, 0.49266862170087977, 0.4474034620505992)]\n"
     ]
    },
    {
     "data": {
      "application/vnd.jupyter.widget-view+json": {
       "model_id": "4252056166d442f3bc5ede74cb2c0b52",
       "version_major": 2,
       "version_minor": 0
      },
      "text/plain": [
       "  0%|          | 0/599 [00:00<?, ?it/s]"
      ]
     },
     "metadata": {},
     "output_type": "display_data"
    },
    {
     "name": "stdout",
     "output_type": "stream",
     "text": [
      "Validation loss decreased (22086676.000000 --> 21999177.138564).  Saving model ...\n"
     ]
    },
    {
     "data": {
      "application/vnd.jupyter.widget-view+json": {
       "model_id": "e4bd5cd51ce94ee38b08068d6faed164",
       "version_major": 2,
       "version_minor": 0
      },
      "text/plain": [
       "Train:   0%|          | 0/751 [00:00<?, ?it/s]"
      ]
     },
     "metadata": {},
     "output_type": "display_data"
    },
    {
     "name": "stdout",
     "output_type": "stream",
     "text": [
      "Epoch 108/100, Loss: [(2387439.987683089, 861.964375339207, 21956014.471371505)], Metrics=[(0.5153129161118508, 0.5172413793103449, 0.459387483355526)]\n"
     ]
    },
    {
     "data": {
      "application/vnd.jupyter.widget-view+json": {
       "model_id": "552cb8f5ae9d49eba025aa41d903b66d",
       "version_major": 2,
       "version_minor": 0
      },
      "text/plain": [
       "  0%|          | 0/599 [00:00<?, ?it/s]"
      ]
     },
     "metadata": {},
     "output_type": "display_data"
    },
    {
     "name": "stdout",
     "output_type": "stream",
     "text": [
      "Validation loss decreased (21999177.138564 --> 21912857.128548).  Saving model ...\n"
     ]
    },
    {
     "data": {
      "application/vnd.jupyter.widget-view+json": {
       "model_id": "8c05d5db33aa441ba5708b0d37b81e62",
       "version_major": 2,
       "version_minor": 0
      },
      "text/plain": [
       "Train:   0%|          | 0/751 [00:00<?, ?it/s]"
      ]
     },
     "metadata": {},
     "output_type": "display_data"
    },
    {
     "name": "stdout",
     "output_type": "stream",
     "text": [
      "Epoch 109/100, Loss: [(2407983.184753662, 864.6174855158998, 21870801.267643142)], Metrics=[(0.5239680426098535, 0.5257879656160458, 0.48868175765645805)]\n"
     ]
    },
    {
     "data": {
      "application/vnd.jupyter.widget-view+json": {
       "model_id": "73b87a365012457896cffca7b59136d6",
       "version_major": 2,
       "version_minor": 0
      },
      "text/plain": [
       "  0%|          | 0/599 [00:00<?, ?it/s]"
      ]
     },
     "metadata": {},
     "output_type": "display_data"
    },
    {
     "name": "stdout",
     "output_type": "stream",
     "text": [
      "Validation loss decreased (21912857.128548 --> 21826461.171953).  Saving model ...\n"
     ]
    },
    {
     "data": {
      "application/vnd.jupyter.widget-view+json": {
       "model_id": "92806f3bf9964935bcee585c88a2d0f8",
       "version_major": 2,
       "version_minor": 0
      },
      "text/plain": [
       "Train:   0%|          | 0/751 [00:00<?, ?it/s]"
      ]
     },
     "metadata": {},
     "output_type": "display_data"
    },
    {
     "name": "stdout",
     "output_type": "stream",
     "text": [
      "Epoch 110/100, Loss: [(2426140.444740346, 868.6336315440857, 21785720.838881493)], Metrics=[(0.4986684420772304, 0.4985754985754986, 0.46604527296937415)]\n"
     ]
    },
    {
     "data": {
      "application/vnd.jupyter.widget-view+json": {
       "model_id": "56e0758ef3514e6f97f53c47be3bb6e7",
       "version_major": 2,
       "version_minor": 0
      },
      "text/plain": [
       "  0%|          | 0/599 [00:00<?, ?it/s]"
      ]
     },
     "metadata": {},
     "output_type": "display_data"
    },
    {
     "name": "stdout",
     "output_type": "stream",
     "text": [
      "Validation loss decreased (21826461.171953 --> 21744141.195326).  Saving model ...\n"
     ]
    },
    {
     "data": {
      "application/vnd.jupyter.widget-view+json": {
       "model_id": "2aed725b154b4f52b83c3669a9285c2c",
       "version_major": 2,
       "version_minor": 0
      },
      "text/plain": [
       "Train:   0%|          | 0/751 [00:00<?, ?it/s]"
      ]
     },
     "metadata": {},
     "output_type": "display_data"
    },
    {
     "name": "stdout",
     "output_type": "stream",
     "text": [
      "Epoch 111/100, Loss: [(2442235.161451398, 864.7596604191156, 21702454.45539281)], Metrics=[(0.4980026631158455, 0.4979020979020979, 0.474034620505992)]\n"
     ]
    },
    {
     "data": {
      "application/vnd.jupyter.widget-view+json": {
       "model_id": "fac93cb1801844c0812874beae52588b",
       "version_major": 2,
       "version_minor": 0
      },
      "text/plain": [
       "  0%|          | 0/599 [00:00<?, ?it/s]"
      ]
     },
     "metadata": {},
     "output_type": "display_data"
    },
    {
     "name": "stdout",
     "output_type": "stream",
     "text": [
      "Validation loss decreased (21744141.195326 --> 21660844.000000).  Saving model ...\n"
     ]
    },
    {
     "data": {
      "application/vnd.jupyter.widget-view+json": {
       "model_id": "4396aca847074199b5c60df9bfe8bafb",
       "version_major": 2,
       "version_minor": 0
      },
      "text/plain": [
       "Train:   0%|          | 0/751 [00:00<?, ?it/s]"
      ]
     },
     "metadata": {},
     "output_type": "display_data"
    },
    {
     "name": "stdout",
     "output_type": "stream",
     "text": [
      "Epoch 112/100, Loss: [(2456215.060252996, 873.0550026654857, 21619557.37150466)], Metrics=[(0.4793608521970706, 0.47788873038516405, 0.44607190412782954)]\n"
     ]
    },
    {
     "data": {
      "application/vnd.jupyter.widget-view+json": {
       "model_id": "9ad01c1e9c574713b8f4f4665c84e8eb",
       "version_major": 2,
       "version_minor": 0
      },
      "text/plain": [
       "  0%|          | 0/599 [00:00<?, ?it/s]"
      ]
     },
     "metadata": {},
     "output_type": "display_data"
    },
    {
     "name": "stdout",
     "output_type": "stream",
     "text": [
      "Validation loss decreased (21660844.000000 --> 21577497.145242).  Saving model ...\n"
     ]
    },
    {
     "data": {
      "application/vnd.jupyter.widget-view+json": {
       "model_id": "c83aa4487bd54056bbc9fc97cbbbc275",
       "version_major": 2,
       "version_minor": 0
      },
      "text/plain": [
       "Train:   0%|          | 0/751 [00:00<?, ?it/s]"
      ]
     },
     "metadata": {},
     "output_type": "display_data"
    },
    {
     "name": "stdout",
     "output_type": "stream",
     "text": [
      "Epoch 113/100, Loss: [(2468260.85885486, 852.0868805645164, 21537147.765645806)], Metrics=[(0.5226364846870839, 0.5232876712328767, 0.5086551264980027)]\n"
     ]
    },
    {
     "data": {
      "application/vnd.jupyter.widget-view+json": {
       "model_id": "80633c6707114e6e89ad3169b54391cb",
       "version_major": 2,
       "version_minor": 0
      },
      "text/plain": [
       "  0%|          | 0/599 [00:00<?, ?it/s]"
      ]
     },
     "metadata": {},
     "output_type": "display_data"
    },
    {
     "name": "stdout",
     "output_type": "stream",
     "text": [
      "Validation loss decreased (21577497.145242 --> 21495260.000000).  Saving model ...\n"
     ]
    },
    {
     "data": {
      "application/vnd.jupyter.widget-view+json": {
       "model_id": "d403a3c787af43179e8819c2b9e3a2ea",
       "version_major": 2,
       "version_minor": 0
      },
      "text/plain": [
       "Train:   0%|          | 0/751 [00:00<?, ?it/s]"
      ]
     },
     "metadata": {},
     "output_type": "display_data"
    },
    {
     "name": "stdout",
     "output_type": "stream",
     "text": [
      "Epoch 114/100, Loss: [(2478459.440412783, 879.1064122261071, 21455085.6804261)], Metrics=[(0.5126498002663116, 0.5131761442441054, 0.49267643142476697)]\n"
     ]
    },
    {
     "data": {
      "application/vnd.jupyter.widget-view+json": {
       "model_id": "a91f28facddd4a35ac9e468fde34fc33",
       "version_major": 2,
       "version_minor": 0
      },
      "text/plain": [
       "  0%|          | 0/599 [00:00<?, ?it/s]"
      ]
     },
     "metadata": {},
     "output_type": "display_data"
    },
    {
     "name": "stdout",
     "output_type": "stream",
     "text": [
      "Validation loss decreased (21495260.000000 --> 21414032.000000).  Saving model ...\n"
     ]
    },
    {
     "data": {
      "application/vnd.jupyter.widget-view+json": {
       "model_id": "800d6c43167d497d9b095defda169175",
       "version_major": 2,
       "version_minor": 0
      },
      "text/plain": [
       "Train:   0%|          | 0/751 [00:00<?, ?it/s]"
      ]
     },
     "metadata": {},
     "output_type": "display_data"
    },
    {
     "name": "stdout",
     "output_type": "stream",
     "text": [
      "Epoch 115/100, Loss: [(2486961.9490679093, 892.9384384714284, 21373266.194407456)], Metrics=[(0.5199733688415447, 0.5208333333333334, 0.4993342210386152)]\n"
     ]
    },
    {
     "data": {
      "application/vnd.jupyter.widget-view+json": {
       "model_id": "7b8a236e2c9b43de9a15d61a8cf495b8",
       "version_major": 2,
       "version_minor": 0
      },
      "text/plain": [
       "  0%|          | 0/599 [00:00<?, ?it/s]"
      ]
     },
     "metadata": {},
     "output_type": "display_data"
    },
    {
     "name": "stdout",
     "output_type": "stream",
     "text": [
      "Validation loss decreased (21414032.000000 --> 21330948.000000).  Saving model ...\n"
     ]
    },
    {
     "data": {
      "application/vnd.jupyter.widget-view+json": {
       "model_id": "061b2aafbccd499cb166f1074792280b",
       "version_major": 2,
       "version_minor": 0
      },
      "text/plain": [
       "Train:   0%|          | 0/751 [00:00<?, ?it/s]"
      ]
     },
     "metadata": {},
     "output_type": "display_data"
    },
    {
     "name": "stdout",
     "output_type": "stream",
     "text": [
      "Epoch 116/100, Loss: [(2493614.9091211716, 889.3736247083144, 21289433.278295606)], Metrics=[(0.4873501997336884, 0.48633093525179855, 0.45006657789613846)]\n"
     ]
    },
    {
     "data": {
      "application/vnd.jupyter.widget-view+json": {
       "model_id": "90bc334f5dae4f4db32ab3c1de6b551b",
       "version_major": 2,
       "version_minor": 0
      },
      "text/plain": [
       "  0%|          | 0/599 [00:00<?, ?it/s]"
      ]
     },
     "metadata": {},
     "output_type": "display_data"
    },
    {
     "name": "stdout",
     "output_type": "stream",
     "text": [
      "Validation loss decreased (21330948.000000 --> 21247780.000000).  Saving model ...\n"
     ]
    },
    {
     "data": {
      "application/vnd.jupyter.widget-view+json": {
       "model_id": "05d3196c255c44ca8e78d94c9fe4e8da",
       "version_major": 2,
       "version_minor": 0
      },
      "text/plain": [
       "Train:   0%|          | 0/751 [00:00<?, ?it/s]"
      ]
     },
     "metadata": {},
     "output_type": "display_data"
    },
    {
     "name": "stdout",
     "output_type": "stream",
     "text": [
      "Epoch 117/100, Loss: [(2498943.124500666, 872.6313032436427, 21207082.292942744)], Metrics=[(0.5119840213049268, 0.513235294117647, 0.4647137150466045)]\n"
     ]
    },
    {
     "data": {
      "application/vnd.jupyter.widget-view+json": {
       "model_id": "cd746b32c5584d36909dd0b65cfcccd7",
       "version_major": 2,
       "version_minor": 0
      },
      "text/plain": [
       "  0%|          | 0/599 [00:00<?, ?it/s]"
      ]
     },
     "metadata": {},
     "output_type": "display_data"
    },
    {
     "name": "stdout",
     "output_type": "stream",
     "text": [
      "Validation loss decreased (21247780.000000 --> 21165636.000000).  Saving model ...\n"
     ]
    },
    {
     "data": {
      "application/vnd.jupyter.widget-view+json": {
       "model_id": "255e5bfdc79845c5b8e99c5ec798423b",
       "version_major": 2,
       "version_minor": 0
      },
      "text/plain": [
       "Train:   0%|          | 0/751 [00:00<?, ?it/s]"
      ]
     },
     "metadata": {},
     "output_type": "display_data"
    },
    {
     "name": "stdout",
     "output_type": "stream",
     "text": [
      "Epoch 118/100, Loss: [(2502919.089214381, 878.0249668636116, 21124941.177097205)], Metrics=[(0.5173102529960053, 0.518361581920904, 0.48868175765645805)]\n"
     ]
    },
    {
     "data": {
      "application/vnd.jupyter.widget-view+json": {
       "model_id": "4935907300004f9680e83637e9539f07",
       "version_major": 2,
       "version_minor": 0
      },
      "text/plain": [
       "  0%|          | 0/599 [00:00<?, ?it/s]"
      ]
     },
     "metadata": {},
     "output_type": "display_data"
    },
    {
     "name": "stdout",
     "output_type": "stream",
     "text": [
      "Validation loss decreased (21165636.000000 --> 21083484.000000).  Saving model ...\n"
     ]
    },
    {
     "data": {
      "application/vnd.jupyter.widget-view+json": {
       "model_id": "a29ac0062ad54fa68dd7c604a25af841",
       "version_major": 2,
       "version_minor": 0
      },
      "text/plain": [
       "Train:   0%|          | 0/751 [00:00<?, ?it/s]"
      ]
     },
     "metadata": {},
     "output_type": "display_data"
    },
    {
     "name": "stdout",
     "output_type": "stream",
     "text": [
      "Epoch 119/100, Loss: [(2505570.112183755, 895.0490965399603, 21042338.655126497)], Metrics=[(0.5153129161118508, 0.5173978819969742, 0.45539280958721706)]\n"
     ]
    },
    {
     "data": {
      "application/vnd.jupyter.widget-view+json": {
       "model_id": "d49f601ccca143b69d7410375b499022",
       "version_major": 2,
       "version_minor": 0
      },
      "text/plain": [
       "  0%|          | 0/599 [00:00<?, ?it/s]"
      ]
     },
     "metadata": {},
     "output_type": "display_data"
    },
    {
     "name": "stdout",
     "output_type": "stream",
     "text": [
      "Validation loss decreased (21083484.000000 --> 21002336.000000).  Saving model ...\n"
     ]
    },
    {
     "data": {
      "application/vnd.jupyter.widget-view+json": {
       "model_id": "08182b3fd7264e37b5dc3a8bf5139f06",
       "version_major": 2,
       "version_minor": 0
      },
      "text/plain": [
       "Train:   0%|          | 0/751 [00:00<?, ?it/s]"
      ]
     },
     "metadata": {},
     "output_type": "display_data"
    },
    {
     "name": "stdout",
     "output_type": "stream",
     "text": [
      "Epoch 120/100, Loss: [(2507389.844873502, 883.2415705331676, 20962640.31424767)], Metrics=[(0.5153129161118508, 0.5172413793103449, 0.459387483355526)]\n"
     ]
    },
    {
     "data": {
      "application/vnd.jupyter.widget-view+json": {
       "model_id": "e4644cf1949b492793d74d5cd6d676a3",
       "version_major": 2,
       "version_minor": 0
      },
      "text/plain": [
       "  0%|          | 0/599 [00:00<?, ?it/s]"
      ]
     },
     "metadata": {},
     "output_type": "display_data"
    },
    {
     "name": "stdout",
     "output_type": "stream",
     "text": [
      "Validation loss decreased (21002336.000000 --> 20921685.131886).  Saving model ...\n"
     ]
    },
    {
     "data": {
      "application/vnd.jupyter.widget-view+json": {
       "model_id": "61d2041708594f15b6945b498655f2a0",
       "version_major": 2,
       "version_minor": 0
      },
      "text/plain": [
       "Train:   0%|          | 0/751 [00:00<?, ?it/s]"
      ]
     },
     "metadata": {},
     "output_type": "display_data"
    },
    {
     "name": "stdout",
     "output_type": "stream",
     "text": [
      "Epoch 121/100, Loss: [(2507923.9464047938, 890.421877040326, 20881009.94141145)], Metrics=[(0.48934753661784286, 0.4880597014925373, 0.43541944074567246)]\n"
     ]
    },
    {
     "data": {
      "application/vnd.jupyter.widget-view+json": {
       "model_id": "663b379a175b4a5aa9262edf799a74ef",
       "version_major": 2,
       "version_minor": 0
      },
      "text/plain": [
       "  0%|          | 0/599 [00:00<?, ?it/s]"
      ]
     },
     "metadata": {},
     "output_type": "display_data"
    },
    {
     "name": "stdout",
     "output_type": "stream",
     "text": [
      "Validation loss decreased (20921685.131886 --> 20840668.000000).  Saving model ...\n"
     ]
    },
    {
     "data": {
      "application/vnd.jupyter.widget-view+json": {
       "model_id": "e16786763cb34085ba2a89497f920a71",
       "version_major": 2,
       "version_minor": 0
      },
      "text/plain": [
       "Train:   0%|          | 0/751 [00:00<?, ?it/s]"
      ]
     },
     "metadata": {},
     "output_type": "display_data"
    },
    {
     "name": "stdout",
     "output_type": "stream",
     "text": [
      "Epoch 122/100, Loss: [(2507639.693741678, 887.9992676170468, 20800895.520639148)], Metrics=[(0.5099866844207723, 0.5115562403697997, 0.4420772303595206)]\n"
     ]
    },
    {
     "data": {
      "application/vnd.jupyter.widget-view+json": {
       "model_id": "3edfcbf04e8b4e5591c5c21ee92c0c30",
       "version_major": 2,
       "version_minor": 0
      },
      "text/plain": [
       "  0%|          | 0/599 [00:00<?, ?it/s]"
      ]
     },
     "metadata": {},
     "output_type": "display_data"
    },
    {
     "name": "stdout",
     "output_type": "stream",
     "text": [
      "Validation loss decreased (20840668.000000 --> 20760052.000000).  Saving model ...\n"
     ]
    },
    {
     "data": {
      "application/vnd.jupyter.widget-view+json": {
       "model_id": "55e00ad643614d24bc3240d0add50d24",
       "version_major": 2,
       "version_minor": 0
      },
      "text/plain": [
       "Train:   0%|          | 0/751 [00:00<?, ?it/s]"
      ]
     },
     "metadata": {},
     "output_type": "display_data"
    },
    {
     "name": "stdout",
     "output_type": "stream",
     "text": [
      "Epoch 123/100, Loss: [(2506421.017976032, 901.3309362238481, 20720421.38482024)], Metrics=[(0.46937416777629826, 0.4666666666666667, 0.42876165113182424)]\n"
     ]
    },
    {
     "data": {
      "application/vnd.jupyter.widget-view+json": {
       "model_id": "53a15c9de5be4b74b36147397775b782",
       "version_major": 2,
       "version_minor": 0
      },
      "text/plain": [
       "  0%|          | 0/599 [00:00<?, ?it/s]"
      ]
     },
     "metadata": {},
     "output_type": "display_data"
    },
    {
     "name": "stdout",
     "output_type": "stream",
     "text": [
      "Validation loss decreased (20760052.000000 --> 20679149.185309).  Saving model ...\n"
     ]
    },
    {
     "data": {
      "application/vnd.jupyter.widget-view+json": {
       "model_id": "3b452aac1fa34973b92a3e112eb843c3",
       "version_major": 2,
       "version_minor": 0
      },
      "text/plain": [
       "Train:   0%|          | 0/751 [00:00<?, ?it/s]"
      ]
     },
     "metadata": {},
     "output_type": "display_data"
    },
    {
     "name": "stdout",
     "output_type": "stream",
     "text": [
      "Epoch 124/100, Loss: [(2504166.4940079893, 898.1858382349776, 20638175.201065246)], Metrics=[(0.48468708388814913, 0.4827586206896552, 0.42876165113182424)]\n"
     ]
    },
    {
     "data": {
      "application/vnd.jupyter.widget-view+json": {
       "model_id": "9a81391db4d94455ba8812fc95e5e0f7",
       "version_major": 2,
       "version_minor": 0
      },
      "text/plain": [
       "  0%|          | 0/599 [00:00<?, ?it/s]"
      ]
     },
     "metadata": {},
     "output_type": "display_data"
    },
    {
     "name": "stdout",
     "output_type": "stream",
     "text": [
      "Validation loss decreased (20679149.185309 --> 20596053.198664).  Saving model ...\n"
     ]
    },
    {
     "data": {
      "application/vnd.jupyter.widget-view+json": {
       "model_id": "d62d41b02c5f441ea4626a572bed113b",
       "version_major": 2,
       "version_minor": 0
      },
      "text/plain": [
       "Train:   0%|          | 0/751 [00:00<?, ?it/s]"
      ]
     },
     "metadata": {},
     "output_type": "display_data"
    },
    {
     "name": "stdout",
     "output_type": "stream",
     "text": [
      "Epoch 125/100, Loss: [(2501291.387816245, 903.7460950754804, 20556949.190412782)], Metrics=[(0.49467376830892146, 0.4938650306748466, 0.42876165113182424)]\n"
     ]
    },
    {
     "data": {
      "application/vnd.jupyter.widget-view+json": {
       "model_id": "703c0a4d1243486e9052acd6ceafe786",
       "version_major": 2,
       "version_minor": 0
      },
      "text/plain": [
       "  0%|          | 0/599 [00:00<?, ?it/s]"
      ]
     },
     "metadata": {},
     "output_type": "display_data"
    },
    {
     "name": "stdout",
     "output_type": "stream",
     "text": [
      "Validation loss decreased (20596053.198664 --> 20516073.225376).  Saving model ...\n"
     ]
    },
    {
     "data": {
      "application/vnd.jupyter.widget-view+json": {
       "model_id": "fbd6a5ebb9474292a6af4e0daf3dae78",
       "version_major": 2,
       "version_minor": 0
      },
      "text/plain": [
       "Train:   0%|          | 0/751 [00:00<?, ?it/s]"
      ]
     },
     "metadata": {},
     "output_type": "display_data"
    },
    {
     "name": "stdout",
     "output_type": "stream",
     "text": [
      "Epoch 126/100, Loss: [(2497747.7140479363, 903.9755817434356, 20475852.213049266)], Metrics=[(0.49067909454061254, 0.4903047091412742, 0.47137150466045274)]\n"
     ]
    },
    {
     "data": {
      "application/vnd.jupyter.widget-view+json": {
       "model_id": "0ac521106f9f42bd93914cf0a0cd43a0",
       "version_major": 2,
       "version_minor": 0
      },
      "text/plain": [
       "  0%|          | 0/599 [00:00<?, ?it/s]"
      ]
     },
     "metadata": {},
     "output_type": "display_data"
    },
    {
     "name": "stdout",
     "output_type": "stream",
     "text": [
      "Validation loss decreased (20516073.225376 --> 20435708.000000).  Saving model ...\n"
     ]
    },
    {
     "data": {
      "application/vnd.jupyter.widget-view+json": {
       "model_id": "413149afeb9b4f94a9988b5fb119ffe1",
       "version_major": 2,
       "version_minor": 0
      },
      "text/plain": [
       "Train:   0%|          | 0/751 [00:00<?, ?it/s]"
      ]
     },
     "metadata": {},
     "output_type": "display_data"
    },
    {
     "name": "stdout",
     "output_type": "stream",
     "text": [
      "Epoch 127/100, Loss: [(2493675.155126498, 899.3647362071647, 20395571.824234355)], Metrics=[(0.5059920106524634, 0.5062937062937063, 0.48202396804260983)]\n"
     ]
    },
    {
     "data": {
      "application/vnd.jupyter.widget-view+json": {
       "model_id": "597669d28bde4bb8ab3e1532a8559751",
       "version_major": 2,
       "version_minor": 0
      },
      "text/plain": [
       "  0%|          | 0/599 [00:00<?, ?it/s]"
      ]
     },
     "metadata": {},
     "output_type": "display_data"
    },
    {
     "name": "stdout",
     "output_type": "stream",
     "text": [
      "Validation loss decreased (20435708.000000 --> 20355017.265442).  Saving model ...\n"
     ]
    },
    {
     "data": {
      "application/vnd.jupyter.widget-view+json": {
       "model_id": "62d5a570d36e43ba9df9657d6e6c8e0c",
       "version_major": 2,
       "version_minor": 0
      },
      "text/plain": [
       "Train:   0%|          | 0/751 [00:00<?, ?it/s]"
      ]
     },
     "metadata": {},
     "output_type": "display_data"
    },
    {
     "name": "stdout",
     "output_type": "stream",
     "text": [
      "Epoch 128/100, Loss: [(2489398.148135819, 910.2383328894015, 20318167.456724368)], Metrics=[(0.5066577896138482, 0.5068306010928961, 0.4940079893475366)]\n"
     ]
    },
    {
     "data": {
      "application/vnd.jupyter.widget-view+json": {
       "model_id": "a400d0cf52b14db5a3c02bf8db626deb",
       "version_major": 2,
       "version_minor": 0
      },
      "text/plain": [
       "  0%|          | 0/599 [00:00<?, ?it/s]"
      ]
     },
     "metadata": {},
     "output_type": "display_data"
    },
    {
     "name": "stdout",
     "output_type": "stream",
     "text": [
      "Validation loss decreased (20355017.265442 --> 20279789.318865).  Saving model ...\n"
     ]
    },
    {
     "data": {
      "application/vnd.jupyter.widget-view+json": {
       "model_id": "cfeda07ba8f74b14ac8524db56fec15c",
       "version_major": 2,
       "version_minor": 0
      },
      "text/plain": [
       "Train:   0%|          | 0/751 [00:00<?, ?it/s]"
      ]
     },
     "metadata": {},
     "output_type": "display_data"
    },
    {
     "name": "stdout",
     "output_type": "stream",
     "text": [
      "Epoch 129/100, Loss: [(2484540.940745672, 905.3147622552696, 20240242.4873502)], Metrics=[(0.5019973368841545, 0.5021520803443329, 0.46604527296937415)]\n"
     ]
    },
    {
     "data": {
      "application/vnd.jupyter.widget-view+json": {
       "model_id": "284982675cf7477b8a505a96da2e803b",
       "version_major": 2,
       "version_minor": 0
      },
      "text/plain": [
       "  0%|          | 0/599 [00:00<?, ?it/s]"
      ]
     },
     "metadata": {},
     "output_type": "display_data"
    },
    {
     "name": "stdout",
     "output_type": "stream",
     "text": [
      "Validation loss decreased (20279789.318865 --> 20199497.312187).  Saving model ...\n"
     ]
    },
    {
     "data": {
      "application/vnd.jupyter.widget-view+json": {
       "model_id": "c1eb0dda84d94b5e9b05db87f64fc8c2",
       "version_major": 2,
       "version_minor": 0
      },
      "text/plain": [
       "Train:   0%|          | 0/751 [00:00<?, ?it/s]"
      ]
     },
     "metadata": {},
     "output_type": "display_data"
    },
    {
     "name": "stdout",
     "output_type": "stream",
     "text": [
      "Epoch 130/100, Loss: [(2478870.364846871, 897.0180006687434, 20159445.35286285)], Metrics=[(0.4993342210386152, 0.49926144756277696, 0.45006657789613846)]\n"
     ]
    },
    {
     "data": {
      "application/vnd.jupyter.widget-view+json": {
       "model_id": "a4702367bb1545ffa63d0fac853dbd84",
       "version_major": 2,
       "version_minor": 0
      },
      "text/plain": [
       "  0%|          | 0/599 [00:00<?, ?it/s]"
      ]
     },
     "metadata": {},
     "output_type": "display_data"
    },
    {
     "name": "stdout",
     "output_type": "stream",
     "text": [
      "Validation loss decreased (20199497.312187 --> 20118745.212020).  Saving model ...\n"
     ]
    },
    {
     "data": {
      "application/vnd.jupyter.widget-view+json": {
       "model_id": "3b9a7f67306749adb0ccf3ce0fbf641c",
       "version_major": 2,
       "version_minor": 0
      },
      "text/plain": [
       "Train:   0%|          | 0/751 [00:00<?, ?it/s]"
      ]
     },
     "metadata": {},
     "output_type": "display_data"
    },
    {
     "name": "stdout",
     "output_type": "stream",
     "text": [
      "Epoch 131/100, Loss: [(2472910.13448735, 911.9303586478349, 20079758.913448736)], Metrics=[(0.4960053262316911, 0.4959016393442623, 0.4833555259653795)]\n"
     ]
    },
    {
     "data": {
      "application/vnd.jupyter.widget-view+json": {
       "model_id": "f158cdc65b2445e8aee1795d7912a6c5",
       "version_major": 2,
       "version_minor": 0
      },
      "text/plain": [
       "  0%|          | 0/599 [00:00<?, ?it/s]"
      ]
     },
     "metadata": {},
     "output_type": "display_data"
    },
    {
     "name": "stdout",
     "output_type": "stream",
     "text": [
      "Validation loss decreased (20118745.212020 --> 20041508.000000).  Saving model ...\n"
     ]
    },
    {
     "data": {
      "application/vnd.jupyter.widget-view+json": {
       "model_id": "8d025cb42ceb4ba1b350b874ce3d2ffe",
       "version_major": 2,
       "version_minor": 0
      },
      "text/plain": [
       "Train:   0%|          | 0/751 [00:00<?, ?it/s]"
      ]
     },
     "metadata": {},
     "output_type": "display_data"
    },
    {
     "name": "stdout",
     "output_type": "stream",
     "text": [
      "Epoch 132/100, Loss: [(2466891.9490679093, 928.0732421155759, 20002844.04260985)], Metrics=[(0.5193075898801598, 0.5201668984700973, 0.4980026631158455)]\n"
     ]
    },
    {
     "data": {
      "application/vnd.jupyter.widget-view+json": {
       "model_id": "3004c2ace93a40808f505ffb21a84765",
       "version_major": 2,
       "version_minor": 0
      },
      "text/plain": [
       "  0%|          | 0/599 [00:00<?, ?it/s]"
      ]
     },
     "metadata": {},
     "output_type": "display_data"
    },
    {
     "name": "stdout",
     "output_type": "stream",
     "text": [
      "Validation loss decreased (20041508.000000 --> 19964116.000000).  Saving model ...\n"
     ]
    },
    {
     "data": {
      "application/vnd.jupyter.widget-view+json": {
       "model_id": "6a193350756c408084e284be705427da",
       "version_major": 2,
       "version_minor": 0
      },
      "text/plain": [
       "Train:   0%|          | 0/751 [00:00<?, ?it/s]"
      ]
     },
     "metadata": {},
     "output_type": "display_data"
    },
    {
     "name": "stdout",
     "output_type": "stream",
     "text": [
      "Epoch 133/100, Loss: [(2460438.1098535284, 910.836491058409, 19925013.53395473)], Metrics=[(0.5079893475366178, 0.5084745762711864, 0.4793608521970706)]\n"
     ]
    },
    {
     "data": {
      "application/vnd.jupyter.widget-view+json": {
       "model_id": "6727dd61dd06472ea18ffe639854e1ff",
       "version_major": 2,
       "version_minor": 0
      },
      "text/plain": [
       "  0%|          | 0/599 [00:00<?, ?it/s]"
      ]
     },
     "metadata": {},
     "output_type": "display_data"
    },
    {
     "name": "stdout",
     "output_type": "stream",
     "text": [
      "Validation loss decreased (19964116.000000 --> 19884837.282137).  Saving model ...\n"
     ]
    },
    {
     "data": {
      "application/vnd.jupyter.widget-view+json": {
       "model_id": "0016430c59374ebf9df3bf2e9ebec9b1",
       "version_major": 2,
       "version_minor": 0
      },
      "text/plain": [
       "Train:   0%|          | 0/751 [00:00<?, ?it/s]"
      ]
     },
     "metadata": {},
     "output_type": "display_data"
    },
    {
     "name": "stdout",
     "output_type": "stream",
     "text": [
      "Epoch 134/100, Loss: [(2453444.114181092, 925.3695025630333, 19845522.72436751)], Metrics=[(0.49467376830892146, 0.4943977591036415, 0.47003994673768307)]\n"
     ]
    },
    {
     "data": {
      "application/vnd.jupyter.widget-view+json": {
       "model_id": "34609ba85da64d08bdd366580357b2be",
       "version_major": 2,
       "version_minor": 0
      },
      "text/plain": [
       "  0%|          | 0/599 [00:00<?, ?it/s]"
      ]
     },
     "metadata": {},
     "output_type": "display_data"
    },
    {
     "name": "stdout",
     "output_type": "stream",
     "text": [
      "Validation loss decreased (19884837.282137 --> 19805733.232053).  Saving model ...\n"
     ]
    },
    {
     "data": {
      "application/vnd.jupyter.widget-view+json": {
       "model_id": "da8dd725d7d340ae9fb040639e0ddeab",
       "version_major": 2,
       "version_minor": 0
      },
      "text/plain": [
       "Train:   0%|          | 0/751 [00:00<?, ?it/s]"
      ]
     },
     "metadata": {},
     "output_type": "display_data"
    },
    {
     "name": "stdout",
     "output_type": "stream",
     "text": [
      "Epoch 135/100, Loss: [(2446265.6754327565, 916.1098940111565, 19766668.087882824)], Metrics=[(0.48601864181091875, 0.48523206751054854, 0.459387483355526)]\n"
     ]
    },
    {
     "data": {
      "application/vnd.jupyter.widget-view+json": {
       "model_id": "eba28110e907497689f7b6b4f6432d21",
       "version_major": 2,
       "version_minor": 0
      },
      "text/plain": [
       "  0%|          | 0/599 [00:00<?, ?it/s]"
      ]
     },
     "metadata": {},
     "output_type": "display_data"
    },
    {
     "name": "stdout",
     "output_type": "stream",
     "text": [
      "Validation loss decreased (19805733.232053 --> 19726800.000000).  Saving model ...\n"
     ]
    },
    {
     "data": {
      "application/vnd.jupyter.widget-view+json": {
       "model_id": "1bb949aba1df416bbca80dd71b0f3fe4",
       "version_major": 2,
       "version_minor": 0
      },
      "text/plain": [
       "Train:   0%|          | 0/751 [00:00<?, ?it/s]"
      ]
     },
     "metadata": {},
     "output_type": "display_data"
    },
    {
     "name": "stdout",
     "output_type": "stream",
     "text": [
      "Epoch 136/100, Loss: [(2438769.420772304, 908.8964647394506, 19687510.18109188)], Metrics=[(0.49533954727030627, 0.49533954727030627, 0.49533954727030627)]\n"
     ]
    },
    {
     "data": {
      "application/vnd.jupyter.widget-view+json": {
       "model_id": "b3ae7178cff64321b8817a84e06a8a7d",
       "version_major": 2,
       "version_minor": 0
      },
      "text/plain": [
       "  0%|          | 0/599 [00:00<?, ?it/s]"
      ]
     },
     "metadata": {},
     "output_type": "display_data"
    },
    {
     "name": "stdout",
     "output_type": "stream",
     "text": [
      "Validation loss decreased (19726800.000000 --> 19648029.252087).  Saving model ...\n"
     ]
    },
    {
     "data": {
      "application/vnd.jupyter.widget-view+json": {
       "model_id": "c5340d2b276c4739bc960727ef041f10",
       "version_major": 2,
       "version_minor": 0
      },
      "text/plain": [
       "Train:   0%|          | 0/751 [00:00<?, ?it/s]"
      ]
     },
     "metadata": {},
     "output_type": "display_data"
    },
    {
     "name": "stdout",
     "output_type": "stream",
     "text": [
      "Epoch 137/100, Loss: [(2431199.8901464716, 925.5227675945473, 19609573.49400799)], Metrics=[(0.48468708388814913, 0.4834054834054834, 0.44607190412782954)]\n"
     ]
    },
    {
     "data": {
      "application/vnd.jupyter.widget-view+json": {
       "model_id": "0c1c71d9d44a46219c56608d5f9dab5f",
       "version_major": 2,
       "version_minor": 0
      },
      "text/plain": [
       "  0%|          | 0/599 [00:00<?, ?it/s]"
      ]
     },
     "metadata": {},
     "output_type": "display_data"
    },
    {
     "name": "stdout",
     "output_type": "stream",
     "text": [
      "Validation loss decreased (19648029.252087 --> 19571188.000000).  Saving model ...\n"
     ]
    },
    {
     "data": {
      "application/vnd.jupyter.widget-view+json": {
       "model_id": "32181ad01361498385025688ddaa1e03",
       "version_major": 2,
       "version_minor": 0
      },
      "text/plain": [
       "Train:   0%|          | 0/751 [00:00<?, ?it/s]"
      ]
     },
     "metadata": {},
     "output_type": "display_data"
    },
    {
     "name": "stdout",
     "output_type": "stream",
     "text": [
      "Epoch 138/100, Loss: [(2423622.259986684, 927.5629526845248, 19533288.62849534)], Metrics=[(0.5279627163781625, 0.5294943820224719, 0.5019973368841545)]\n"
     ]
    },
    {
     "data": {
      "application/vnd.jupyter.widget-view+json": {
       "model_id": "6ebc6733cf174f2f8a9c251aecf0d0d1",
       "version_major": 2,
       "version_minor": 0
      },
      "text/plain": [
       "  0%|          | 0/599 [00:00<?, ?it/s]"
      ]
     },
     "metadata": {},
     "output_type": "display_data"
    },
    {
     "name": "stdout",
     "output_type": "stream",
     "text": [
      "Validation loss decreased (19571188.000000 --> 19493501.282137).  Saving model ...\n"
     ]
    },
    {
     "data": {
      "application/vnd.jupyter.widget-view+json": {
       "model_id": "d6b3745c8ea44a4d82ca4b05e0063603",
       "version_major": 2,
       "version_minor": 0
      },
      "text/plain": [
       "Train:   0%|          | 0/751 [00:00<?, ?it/s]"
      ]
     },
     "metadata": {},
     "output_type": "display_data"
    },
    {
     "name": "stdout",
     "output_type": "stream",
     "text": [
      "Epoch 139/100, Loss: [(2415584.5279627163, 929.317742102148, 19454816.822902795)], Metrics=[(0.49201065246338216, 0.4915014164305949, 0.4620505992010652)]\n"
     ]
    },
    {
     "data": {
      "application/vnd.jupyter.widget-view+json": {
       "model_id": "ce79f938be864faa8c5d6eadab241eee",
       "version_major": 2,
       "version_minor": 0
      },
      "text/plain": [
       "  0%|          | 0/599 [00:00<?, ?it/s]"
      ]
     },
     "metadata": {},
     "output_type": "display_data"
    },
    {
     "name": "stdout",
     "output_type": "stream",
     "text": [
      "Validation loss decreased (19493501.282137 --> 19414969.215359).  Saving model ...\n"
     ]
    },
    {
     "data": {
      "application/vnd.jupyter.widget-view+json": {
       "model_id": "ac576283c7764817840abd498cee15fc",
       "version_major": 2,
       "version_minor": 0
      },
      "text/plain": [
       "Train:   0%|          | 0/751 [00:00<?, ?it/s]"
      ]
     },
     "metadata": {},
     "output_type": "display_data"
    },
    {
     "name": "stdout",
     "output_type": "stream",
     "text": [
      "Epoch 140/100, Loss: [(2407374.7027296936, 910.3257781170602, 19376296.247669775)], Metrics=[(0.511318242343542, 0.5117891816920943, 0.49134487350199735)]\n"
     ]
    },
    {
     "data": {
      "application/vnd.jupyter.widget-view+json": {
       "model_id": "e0a2e32fb6544e408fad65b44d811a3d",
       "version_major": 2,
       "version_minor": 0
      },
      "text/plain": [
       "  0%|          | 0/599 [00:00<?, ?it/s]"
      ]
     },
     "metadata": {},
     "output_type": "display_data"
    },
    {
     "name": "stdout",
     "output_type": "stream",
     "text": [
      "Validation loss decreased (19414969.215359 --> 19336304.000000).  Saving model ...\n"
     ]
    },
    {
     "data": {
      "application/vnd.jupyter.widget-view+json": {
       "model_id": "9d56f50242584eb7b551ac8818f178d5",
       "version_major": 2,
       "version_minor": 0
      },
      "text/plain": [
       "Train:   0%|          | 0/751 [00:00<?, ?it/s]"
      ]
     },
     "metadata": {},
     "output_type": "display_data"
    },
    {
     "name": "stdout",
     "output_type": "stream",
     "text": [
      "Epoch 141/100, Loss: [(2398928.080559254, 929.5127900886437, 19297222.35952064)], Metrics=[(0.4840213049267643, 0.48365122615803813, 0.47270306258322237)]\n"
     ]
    },
    {
     "data": {
      "application/vnd.jupyter.widget-view+json": {
       "model_id": "fc290b82b227444a80eed07f4c13b5b2",
       "version_major": 2,
       "version_minor": 0
      },
      "text/plain": [
       "  0%|          | 0/599 [00:00<?, ?it/s]"
      ]
     },
     "metadata": {},
     "output_type": "display_data"
    },
    {
     "name": "stdout",
     "output_type": "stream",
     "text": [
      "Validation loss decreased (19336304.000000 --> 19257100.000000).  Saving model ...\n"
     ]
    },
    {
     "data": {
      "application/vnd.jupyter.widget-view+json": {
       "model_id": "1832422fd78c4b3a8497b79b7e2e21db",
       "version_major": 2,
       "version_minor": 0
      },
      "text/plain": [
       "Train:   0%|          | 0/751 [00:00<?, ?it/s]"
      ]
     },
     "metadata": {},
     "output_type": "display_data"
    },
    {
     "name": "stdout",
     "output_type": "stream",
     "text": [
      "Epoch 142/100, Loss: [(2390342.3245672435, 932.9430787594512, 19218100.23701731)], Metrics=[(0.5119840213049268, 0.5118421052631579, 0.5179760319573902)]\n"
     ]
    },
    {
     "data": {
      "application/vnd.jupyter.widget-view+json": {
       "model_id": "b475fe97b31e4940987e4ddf97706a6d",
       "version_major": 2,
       "version_minor": 0
      },
      "text/plain": [
       "  0%|          | 0/599 [00:00<?, ?it/s]"
      ]
     },
     "metadata": {},
     "output_type": "display_data"
    },
    {
     "name": "stdout",
     "output_type": "stream",
     "text": [
      "Validation loss decreased (19257100.000000 --> 19178185.338898).  Saving model ...\n"
     ]
    },
    {
     "data": {
      "application/vnd.jupyter.widget-view+json": {
       "model_id": "8d52f810e9184ea88f2b0cdea62c124d",
       "version_major": 2,
       "version_minor": 0
      },
      "text/plain": [
       "Train:   0%|          | 0/751 [00:00<?, ?it/s]"
      ]
     },
     "metadata": {},
     "output_type": "display_data"
    },
    {
     "name": "stdout",
     "output_type": "stream",
     "text": [
      "Epoch 143/100, Loss: [(2381739.1574567244, 929.139654778167, 19139840.2183755)], Metrics=[(0.5086551264980027, 0.5091678420310296, 0.4806924101198402)]\n"
     ]
    },
    {
     "data": {
      "application/vnd.jupyter.widget-view+json": {
       "model_id": "b9aabcb7bb8845debb6a2ff02a194a30",
       "version_major": 2,
       "version_minor": 0
      },
      "text/plain": [
       "  0%|          | 0/599 [00:00<?, ?it/s]"
      ]
     },
     "metadata": {},
     "output_type": "display_data"
    },
    {
     "name": "stdout",
     "output_type": "stream",
     "text": [
      "Validation loss decreased (19178185.338898 --> 19101613.278798).  Saving model ...\n"
     ]
    },
    {
     "data": {
      "application/vnd.jupyter.widget-view+json": {
       "model_id": "756b38cd5ec84ebdbd19e0bd91ba457c",
       "version_major": 2,
       "version_minor": 0
      },
      "text/plain": [
       "Train:   0%|          | 0/751 [00:00<?, ?it/s]"
      ]
     },
     "metadata": {},
     "output_type": "display_data"
    },
    {
     "name": "stdout",
     "output_type": "stream",
     "text": [
      "Epoch 144/100, Loss: [(2373515.149800266, 934.4390769366312, 19065640.231691077)], Metrics=[(0.4973368841544607, 0.4972144846796657, 0.47536617842876167)]\n"
     ]
    },
    {
     "data": {
      "application/vnd.jupyter.widget-view+json": {
       "model_id": "950e941e3e274703bb0a1dedac47c2e0",
       "version_major": 2,
       "version_minor": 0
      },
      "text/plain": [
       "  0%|          | 0/599 [00:00<?, ?it/s]"
      ]
     },
     "metadata": {},
     "output_type": "display_data"
    },
    {
     "name": "stdout",
     "output_type": "stream",
     "text": [
      "Validation loss decreased (19101613.278798 --> 19027401.335559).  Saving model ...\n"
     ]
    },
    {
     "data": {
      "application/vnd.jupyter.widget-view+json": {
       "model_id": "a37bee905c924cf7a4abe1f859e0759a",
       "version_major": 2,
       "version_minor": 0
      },
      "text/plain": [
       "Train:   0%|          | 0/751 [00:00<?, ?it/s]"
      ]
     },
     "metadata": {},
     "output_type": "display_data"
    },
    {
     "name": "stdout",
     "output_type": "stream",
     "text": [
      "Epoch 145/100, Loss: [(2364878.9201065246, 935.2587192333173, 18988934.63382157)], Metrics=[(0.5213049267643143, 0.5212765957446809, 0.521970705725699)]\n"
     ]
    },
    {
     "data": {
      "application/vnd.jupyter.widget-view+json": {
       "model_id": "04ff897881594315938acf898809da5b",
       "version_major": 2,
       "version_minor": 0
      },
      "text/plain": [
       "  0%|          | 0/599 [00:00<?, ?it/s]"
      ]
     },
     "metadata": {},
     "output_type": "display_data"
    },
    {
     "name": "stdout",
     "output_type": "stream",
     "text": [
      "Validation loss decreased (19027401.335559 --> 18949945.285476).  Saving model ...\n"
     ]
    },
    {
     "data": {
      "application/vnd.jupyter.widget-view+json": {
       "model_id": "f843ea194bf84765906cf8c42b61e4ac",
       "version_major": 2,
       "version_minor": 0
      },
      "text/plain": [
       "Train:   0%|          | 0/751 [00:00<?, ?it/s]"
      ]
     },
     "metadata": {},
     "output_type": "display_data"
    },
    {
     "name": "stdout",
     "output_type": "stream",
     "text": [
      "Epoch 146/100, Loss: [(2356226.47436751, 944.4175738483548, 18912798.162450068)], Metrics=[(0.48868175765645805, 0.4882758620689655, 0.47137150466045274)]\n"
     ]
    },
    {
     "data": {
      "application/vnd.jupyter.widget-view+json": {
       "model_id": "5b6e2736ae7e40ae86b0248434ba7a62",
       "version_major": 2,
       "version_minor": 0
      },
      "text/plain": [
       "  0%|          | 0/599 [00:00<?, ?it/s]"
      ]
     },
     "metadata": {},
     "output_type": "display_data"
    },
    {
     "name": "stdout",
     "output_type": "stream",
     "text": [
      "Validation loss decreased (18949945.285476 --> 18874692.000000).  Saving model ...\n"
     ]
    },
    {
     "data": {
      "application/vnd.jupyter.widget-view+json": {
       "model_id": "dd074b50aa2b471e8e791cc3b26ef1ff",
       "version_major": 2,
       "version_minor": 0
      },
      "text/plain": [
       "Train:   0%|          | 0/751 [00:00<?, ?it/s]"
      ]
     },
     "metadata": {},
     "output_type": "display_data"
    },
    {
     "name": "stdout",
     "output_type": "stream",
     "text": [
      "Epoch 147/100, Loss: [(2347544.3069241014, 944.0364905838748, 18837115.137150466)], Metrics=[(0.5053262316910786, 0.5058139534883721, 0.4633821571238349)]\n"
     ]
    },
    {
     "data": {
      "application/vnd.jupyter.widget-view+json": {
       "model_id": "435353159e3b436f8a41c3ebfe401315",
       "version_major": 2,
       "version_minor": 0
      },
      "text/plain": [
       "  0%|          | 0/599 [00:00<?, ?it/s]"
      ]
     },
     "metadata": {},
     "output_type": "display_data"
    },
    {
     "name": "stdout",
     "output_type": "stream",
     "text": [
      "Validation loss decreased (18874692.000000 --> 18798441.238731).  Saving model ...\n"
     ]
    },
    {
     "data": {
      "application/vnd.jupyter.widget-view+json": {
       "model_id": "a819d22f54a84d88bc2189765c4a944a",
       "version_major": 2,
       "version_minor": 0
      },
      "text/plain": [
       "Train:   0%|          | 0/751 [00:00<?, ?it/s]"
      ]
     },
     "metadata": {},
     "output_type": "display_data"
    },
    {
     "name": "stdout",
     "output_type": "stream",
     "text": [
      "Epoch 148/100, Loss: [(2338704.9214380826, 939.8920991458788, 18760791.185086552)], Metrics=[(0.507323568575233, 0.5078909612625538, 0.47137150466045274)]\n"
     ]
    },
    {
     "data": {
      "application/vnd.jupyter.widget-view+json": {
       "model_id": "5146caf476664caaa1bfc14275de585d",
       "version_major": 2,
       "version_minor": 0
      },
      "text/plain": [
       "  0%|          | 0/599 [00:00<?, ?it/s]"
      ]
     },
     "metadata": {},
     "output_type": "display_data"
    },
    {
     "name": "stdout",
     "output_type": "stream",
     "text": [
      "Validation loss decreased (18798441.238731 --> 18721701.265442).  Saving model ...\n"
     ]
    },
    {
     "data": {
      "application/vnd.jupyter.widget-view+json": {
       "model_id": "2e2be31bc1e7415dbb2c713e1c341f50",
       "version_major": 2,
       "version_minor": 0
      },
      "text/plain": [
       "Train:   0%|          | 0/751 [00:00<?, ?it/s]"
      ]
     },
     "metadata": {},
     "output_type": "display_data"
    },
    {
     "name": "stdout",
     "output_type": "stream",
     "text": [
      "Epoch 149/100, Loss: [(2329732.1517976034, 949.6874696856015, 18683986.657789614)], Metrics=[(0.5106524633821571, 0.5114613180515759, 0.47536617842876167)]\n"
     ]
    },
    {
     "data": {
      "application/vnd.jupyter.widget-view+json": {
       "model_id": "13861620e2dd499f865a77978203df91",
       "version_major": 2,
       "version_minor": 0
      },
      "text/plain": [
       "  0%|          | 0/599 [00:00<?, ?it/s]"
      ]
     },
     "metadata": {},
     "output_type": "display_data"
    },
    {
     "name": "stdout",
     "output_type": "stream",
     "text": [
      "Validation loss decreased (18721701.265442 --> 18645364.000000).  Saving model ...\n"
     ]
    },
    {
     "data": {
      "application/vnd.jupyter.widget-view+json": {
       "model_id": "2d556647d80e4a2d893a944f41e17b98",
       "version_major": 2,
       "version_minor": 0
      },
      "text/plain": [
       "Train:   0%|          | 0/751 [00:00<?, ?it/s]"
      ]
     },
     "metadata": {},
     "output_type": "display_data"
    },
    {
     "name": "stdout",
     "output_type": "stream",
     "text": [
      "Epoch 150/100, Loss: [(2320801.017310253, 945.8298569904993, 18607973.291611183)], Metrics=[(0.4840213049267643, 0.48295454545454547, 0.45272969374167776)]\n"
     ]
    },
    {
     "data": {
      "application/vnd.jupyter.widget-view+json": {
       "model_id": "310a35431bb04d95b1d1bdd45fffd3fe",
       "version_major": 2,
       "version_minor": 0
      },
      "text/plain": [
       "  0%|          | 0/599 [00:00<?, ?it/s]"
      ]
     },
     "metadata": {},
     "output_type": "display_data"
    },
    {
     "name": "stdout",
     "output_type": "stream",
     "text": [
      "Validation loss decreased (18645364.000000 --> 18569284.000000).  Saving model ...\n"
     ]
    },
    {
     "data": {
      "application/vnd.jupyter.widget-view+json": {
       "model_id": "2f4315a7da6a4d8da555cf3c3ebad7bc",
       "version_major": 2,
       "version_minor": 0
      },
      "text/plain": [
       "Train:   0%|          | 0/751 [00:00<?, ?it/s]"
      ]
     },
     "metadata": {},
     "output_type": "display_data"
    },
    {
     "name": "stdout",
     "output_type": "stream",
     "text": [
      "Epoch 151/100, Loss: [(2311803.600532623, 939.5620118523512, 18531887.850865513)], Metrics=[(0.4986684420772304, 0.49859154929577465, 0.47137150466045274)]\n"
     ]
    },
    {
     "data": {
      "application/vnd.jupyter.widget-view+json": {
       "model_id": "e2ede4fc7c424b9d80a5366c57606563",
       "version_major": 2,
       "version_minor": 0
      },
      "text/plain": [
       "  0%|          | 0/599 [00:00<?, ?it/s]"
      ]
     },
     "metadata": {},
     "output_type": "display_data"
    },
    {
     "name": "stdout",
     "output_type": "stream",
     "text": [
      "Validation loss decreased (18569284.000000 --> 18493337.265442).  Saving model ...\n"
     ]
    },
    {
     "data": {
      "application/vnd.jupyter.widget-view+json": {
       "model_id": "66f2fadec0874062b013207cab9c9b47",
       "version_major": 2,
       "version_minor": 0
      },
      "text/plain": [
       "Train:   0%|          | 0/751 [00:00<?, ?it/s]"
      ]
     },
     "metadata": {},
     "output_type": "display_data"
    },
    {
     "name": "stdout",
     "output_type": "stream",
     "text": [
      "Epoch 152/100, Loss: [(2302725.5006657788, 944.8071906584623, 18455542.498002663)], Metrics=[(0.5053262316910786, 0.5056022408963585, 0.4806924101198402)]\n"
     ]
    },
    {
     "data": {
      "application/vnd.jupyter.widget-view+json": {
       "model_id": "7741d34a6dba430baf8964183d6d86f6",
       "version_major": 2,
       "version_minor": 0
      },
      "text/plain": [
       "  0%|          | 0/599 [00:00<?, ?it/s]"
      ]
     },
     "metadata": {},
     "output_type": "display_data"
    },
    {
     "name": "stdout",
     "output_type": "stream",
     "text": [
      "Validation loss decreased (18493337.265442 --> 18416876.000000).  Saving model ...\n"
     ]
    },
    {
     "data": {
      "application/vnd.jupyter.widget-view+json": {
       "model_id": "5a3051bcdf7d4220b9904fda5aa7ebf5",
       "version_major": 2,
       "version_minor": 0
      },
      "text/plain": [
       "Train:   0%|          | 0/751 [00:00<?, ?it/s]"
      ]
     },
     "metadata": {},
     "output_type": "display_data"
    },
    {
     "name": "stdout",
     "output_type": "stream",
     "text": [
      "Epoch 153/100, Loss: [(2293632.5812250334, 944.5182463005159, 18379446.343541943)], Metrics=[(0.4933422103861518, 0.49271137026239065, 0.45006657789613846)]\n"
     ]
    },
    {
     "data": {
      "application/vnd.jupyter.widget-view+json": {
       "model_id": "7e8a02a9f32a4bf5b63aeb3e2e9d5a0f",
       "version_major": 2,
       "version_minor": 0
      },
      "text/plain": [
       "  0%|          | 0/599 [00:00<?, ?it/s]"
      ]
     },
     "metadata": {},
     "output_type": "display_data"
    },
    {
     "name": "stdout",
     "output_type": "stream",
     "text": [
      "Validation loss decreased (18416876.000000 --> 18341557.302170).  Saving model ...\n"
     ]
    },
    {
     "data": {
      "application/vnd.jupyter.widget-view+json": {
       "model_id": "034bddde743642dbb8cf69e266373dbc",
       "version_major": 2,
       "version_minor": 0
      },
      "text/plain": [
       "Train:   0%|          | 0/751 [00:00<?, ?it/s]"
      ]
     },
     "metadata": {},
     "output_type": "display_data"
    },
    {
     "name": "stdout",
     "output_type": "stream",
     "text": [
      "Epoch 154/100, Loss: [(2284594.2683089213, 949.1356256113878, 18304175.344873503)], Metrics=[(0.5173102529960053, 0.5175202156334232, 0.511318242343542)]\n"
     ]
    },
    {
     "data": {
      "application/vnd.jupyter.widget-view+json": {
       "model_id": "dee203274c9d4808859a61b4d5858f82",
       "version_major": 2,
       "version_minor": 0
      },
      "text/plain": [
       "  0%|          | 0/599 [00:00<?, ?it/s]"
      ]
     },
     "metadata": {},
     "output_type": "display_data"
    },
    {
     "name": "stdout",
     "output_type": "stream",
     "text": [
      "Validation loss decreased (18341557.302170 --> 18266836.000000).  Saving model ...\n"
     ]
    },
    {
     "data": {
      "application/vnd.jupyter.widget-view+json": {
       "model_id": "dea2fa83af5f4f56bbc35bcb88c1ade5",
       "version_major": 2,
       "version_minor": 0
      },
      "text/plain": [
       "Train:   0%|          | 0/751 [00:00<?, ?it/s]"
      ]
     },
     "metadata": {},
     "output_type": "display_data"
    },
    {
     "name": "stdout",
     "output_type": "stream",
     "text": [
      "Epoch 155/100, Loss: [(2275659.931424767, 946.9638262186671, 18230003.163781624)], Metrics=[(0.5, 0.5, 0.4673768308921438)]\n"
     ]
    },
    {
     "data": {
      "application/vnd.jupyter.widget-view+json": {
       "model_id": "9aa877f4849f4b48b9089311018b57b0",
       "version_major": 2,
       "version_minor": 0
      },
      "text/plain": [
       "  0%|          | 0/599 [00:00<?, ?it/s]"
      ]
     },
     "metadata": {},
     "output_type": "display_data"
    },
    {
     "name": "stdout",
     "output_type": "stream",
     "text": [
      "Validation loss decreased (18266836.000000 --> 18192173.275459).  Saving model ...\n"
     ]
    },
    {
     "data": {
      "application/vnd.jupyter.widget-view+json": {
       "model_id": "bbe584be5ace476985117b1fde57b4aa",
       "version_major": 2,
       "version_minor": 0
      },
      "text/plain": [
       "Train:   0%|          | 0/751 [00:00<?, ?it/s]"
      ]
     },
     "metadata": {},
     "output_type": "display_data"
    },
    {
     "name": "stdout",
     "output_type": "stream",
     "text": [
      "Epoch 156/100, Loss: [(2266842.5412782957, 934.1363378226426, 18156945.87217044)], Metrics=[(0.47070572569906793, 0.46994535519125685, 0.4580559254327563)]\n"
     ]
    },
    {
     "data": {
      "application/vnd.jupyter.widget-view+json": {
       "model_id": "6f8467ba3eef4003a071153475ba4234",
       "version_major": 2,
       "version_minor": 0
      },
      "text/plain": [
       "  0%|          | 0/599 [00:00<?, ?it/s]"
      ]
     },
     "metadata": {},
     "output_type": "display_data"
    },
    {
     "name": "stdout",
     "output_type": "stream",
     "text": [
      "Validation loss decreased (18192173.275459 --> 18119541.228715).  Saving model ...\n"
     ]
    },
    {
     "data": {
      "application/vnd.jupyter.widget-view+json": {
       "model_id": "392982c891a2481cacc6e0ce7520b1e6",
       "version_major": 2,
       "version_minor": 0
      },
      "text/plain": [
       "Train:   0%|          | 0/751 [00:00<?, ?it/s]"
      ]
     },
     "metadata": {},
     "output_type": "display_data"
    },
    {
     "name": "stdout",
     "output_type": "stream",
     "text": [
      "Epoch 157/100, Loss: [(2257791.53828229, 954.9288015481113, 18082388.66577896)], Metrics=[(0.5106524633821571, 0.5111111111111111, 0.49001331557922767)]\n"
     ]
    },
    {
     "data": {
      "application/vnd.jupyter.widget-view+json": {
       "model_id": "7f281dff833c4d16b83af192d70b1b9b",
       "version_major": 2,
       "version_minor": 0
      },
      "text/plain": [
       "  0%|          | 0/599 [00:00<?, ?it/s]"
      ]
     },
     "metadata": {},
     "output_type": "display_data"
    },
    {
     "name": "stdout",
     "output_type": "stream",
     "text": [
      "Validation loss decreased (18119541.228715 --> 18043868.000000).  Saving model ...\n"
     ]
    },
    {
     "data": {
      "application/vnd.jupyter.widget-view+json": {
       "model_id": "bb81970f2651484980f31cb966c49a83",
       "version_major": 2,
       "version_minor": 0
      },
      "text/plain": [
       "Train:   0%|          | 0/751 [00:00<?, ?it/s]"
      ]
     },
     "metadata": {},
     "output_type": "display_data"
    },
    {
     "name": "stdout",
     "output_type": "stream",
     "text": [
      "Epoch 158/100, Loss: [(2248727.6674434086, 943.6553574582748, 18007867.65379494)], Metrics=[(0.5119840213049268, 0.5133136094674556, 0.4620505992010652)]\n"
     ]
    },
    {
     "data": {
      "application/vnd.jupyter.widget-view+json": {
       "model_id": "27a867b37f344c93aba428eca3712e33",
       "version_major": 2,
       "version_minor": 0
      },
      "text/plain": [
       "  0%|          | 0/599 [00:00<?, ?it/s]"
      ]
     },
     "metadata": {},
     "output_type": "display_data"
    },
    {
     "name": "stdout",
     "output_type": "stream",
     "text": [
      "Validation loss decreased (18043868.000000 --> 17970909.235392).  Saving model ...\n"
     ]
    },
    {
     "data": {
      "application/vnd.jupyter.widget-view+json": {
       "model_id": "0926f235883642869806600430bd6a3d",
       "version_major": 2,
       "version_minor": 0
      },
      "text/plain": [
       "Train:   0%|          | 0/751 [00:00<?, ?it/s]"
      ]
     },
     "metadata": {},
     "output_type": "display_data"
    },
    {
     "name": "stdout",
     "output_type": "stream",
     "text": [
      "Epoch 159/100, Loss: [(2239860.400798935, 935.8812529512329, 17935098.88681758)], Metrics=[(0.5026631158455392, 0.5028490028490028, 0.47003994673768307)]\n"
     ]
    },
    {
     "data": {
      "application/vnd.jupyter.widget-view+json": {
       "model_id": "9bb7a170f6b64356b8a628fd27d2f973",
       "version_major": 2,
       "version_minor": 0
      },
      "text/plain": [
       "  0%|          | 0/599 [00:00<?, ?it/s]"
      ]
     },
     "metadata": {},
     "output_type": "display_data"
    },
    {
     "name": "stdout",
     "output_type": "stream",
     "text": [
      "Validation loss decreased (17970909.235392 --> 17897197.285476).  Saving model ...\n"
     ]
    },
    {
     "data": {
      "application/vnd.jupyter.widget-view+json": {
       "model_id": "99b096cea7c44b8ea81a68f675127ebc",
       "version_major": 2,
       "version_minor": 0
      },
      "text/plain": [
       "Train:   0%|          | 0/751 [00:00<?, ?it/s]"
      ]
     },
     "metadata": {},
     "output_type": "display_data"
    },
    {
     "name": "stdout",
     "output_type": "stream",
     "text": [
      "Epoch 160/100, Loss: [(2230698.395472703, 955.7628076609755, 17860264.50599201)], Metrics=[(0.48868175765645805, 0.487698986975398, 0.44873501997336884)]\n"
     ]
    },
    {
     "data": {
      "application/vnd.jupyter.widget-view+json": {
       "model_id": "9f380bb255924b20860c33eca0f80a0a",
       "version_major": 2,
       "version_minor": 0
      },
      "text/plain": [
       "  0%|          | 0/599 [00:00<?, ?it/s]"
      ]
     },
     "metadata": {},
     "output_type": "display_data"
    },
    {
     "name": "stdout",
     "output_type": "stream",
     "text": [
      "Validation loss decreased (17897197.285476 --> 17822553.298831).  Saving model ...\n"
     ]
    },
    {
     "data": {
      "application/vnd.jupyter.widget-view+json": {
       "model_id": "e33bc3b8d64441f68098881f087197b2",
       "version_major": 2,
       "version_minor": 0
      },
      "text/plain": [
       "Train:   0%|          | 0/751 [00:00<?, ?it/s]"
      ]
     },
     "metadata": {},
     "output_type": "display_data"
    },
    {
     "name": "stdout",
     "output_type": "stream",
     "text": [
      "Epoch 161/100, Loss: [(2221701.4936750997, 948.6581636418015, 17786797.091877498)], Metrics=[(0.5046604527296937, 0.5049786628733998, 0.47270306258322237)]\n"
     ]
    },
    {
     "data": {
      "application/vnd.jupyter.widget-view+json": {
       "model_id": "1d4dc6568e7a4694b19db6d1871b060c",
       "version_major": 2,
       "version_minor": 0
      },
      "text/plain": [
       "  0%|          | 0/599 [00:00<?, ?it/s]"
      ]
     },
     "metadata": {},
     "output_type": "display_data"
    },
    {
     "name": "stdout",
     "output_type": "stream",
     "text": [
      "Validation loss decreased (17822553.298831 --> 17750988.000000).  Saving model ...\n"
     ]
    },
    {
     "data": {
      "application/vnd.jupyter.widget-view+json": {
       "model_id": "a024b53760f14d7f9212a1b7a69ca10b",
       "version_major": 2,
       "version_minor": 0
      },
      "text/plain": [
       "Train:   0%|          | 0/751 [00:00<?, ?it/s]"
      ]
     },
     "metadata": {},
     "output_type": "display_data"
    },
    {
     "name": "stdout",
     "output_type": "stream",
     "text": [
      "Epoch 162/100, Loss: [(2212920.0486018644, 944.4884111860991, 17715240.02396804)], Metrics=[(0.5059920106524634, 0.5064935064935064, 0.4673768308921438)]\n"
     ]
    },
    {
     "data": {
      "application/vnd.jupyter.widget-view+json": {
       "model_id": "1aefeec7e20f45959e074b5e48005628",
       "version_major": 2,
       "version_minor": 0
      },
      "text/plain": [
       "  0%|          | 0/599 [00:00<?, ?it/s]"
      ]
     },
     "metadata": {},
     "output_type": "display_data"
    },
    {
     "name": "stdout",
     "output_type": "stream",
     "text": [
      "Validation loss decreased (17750988.000000 --> 17677929.222037).  Saving model ...\n"
     ]
    },
    {
     "data": {
      "application/vnd.jupyter.widget-view+json": {
       "model_id": "e29e1e1bb1dc4515859ca09c7d8a94e5",
       "version_major": 2,
       "version_minor": 0
      },
      "text/plain": [
       "Train:   0%|          | 0/751 [00:00<?, ?it/s]"
      ]
     },
     "metadata": {},
     "output_type": "display_data"
    },
    {
     "name": "stdout",
     "output_type": "stream",
     "text": [
      "Epoch 163/100, Loss: [(2203873.2480026633, 943.4411985209201, 17641676.27696405)], Metrics=[(0.48801597869507324, 0.4872881355932203, 0.459387483355526)]\n"
     ]
    },
    {
     "data": {
      "application/vnd.jupyter.widget-view+json": {
       "model_id": "1e25d92ecdd54d389d2cb68f4b8546bb",
       "version_major": 2,
       "version_minor": 0
      },
      "text/plain": [
       "  0%|          | 0/599 [00:00<?, ?it/s]"
      ]
     },
     "metadata": {},
     "output_type": "display_data"
    },
    {
     "name": "stdout",
     "output_type": "stream",
     "text": [
      "Validation loss decreased (17677929.222037 --> 17605172.000000).  Saving model ...\n"
     ]
    },
    {
     "data": {
      "application/vnd.jupyter.widget-view+json": {
       "model_id": "fca5610b24124d4aad0df5b5ad26d7e4",
       "version_major": 2,
       "version_minor": 0
      },
      "text/plain": [
       "Train:   0%|          | 0/751 [00:00<?, ?it/s]"
      ]
     },
     "metadata": {},
     "output_type": "display_data"
    },
    {
     "name": "stdout",
     "output_type": "stream",
     "text": [
      "Epoch 164/100, Loss: [(2194881.991677763, 940.2461457146838, 17568684.98801598)], Metrics=[(0.5239680426098535, 0.5241286863270778, 0.5206391478029294)]\n"
     ]
    },
    {
     "data": {
      "application/vnd.jupyter.widget-view+json": {
       "model_id": "c563aaea7b794815b26e8b4fc7936fd2",
       "version_major": 2,
       "version_minor": 0
      },
      "text/plain": [
       "  0%|          | 0/599 [00:00<?, ?it/s]"
      ]
     },
     "metadata": {},
     "output_type": "display_data"
    },
    {
     "name": "stdout",
     "output_type": "stream",
     "text": [
      "Validation loss decreased (17605172.000000 --> 17532048.000000).  Saving model ...\n"
     ]
    }
   ],
   "source": [
    "best_checkpoint=torch.load('best_mybnn_model.pt')\n",
    "print(f\"best model epoch={best_checkpoint['epoch']} loss={best_checkpoint['loss'][-1]} metrics={best_checkpoint['metrics'][-1]}\")\n",
    "\n",
    "model.load_state_dict(best_checkpoint['model_state_dict'])\n",
    "optimizer.load_state_dict(best_checkpoint['optimizer_state_dict'])\n",
    "start_epoch = best_checkpoint['epoch']\n",
    "\n",
    "training(model, optimizer, start_epoch, best_checkpoint)\n",
    "\n",
    "# final_checkpoint=torch.load('custom_bnn_vindr_final.pth')\n",
    "# print(f\"final model epoch={final_checkpoint['epoch']} loss={final_checkpoint['loss'][-1]} metrics={final_checkpoint['metrics'][-1]}\")\n",
    "# best_model=final_checkpoint['model_state_dict']"
   ]
  },
  {
   "cell_type": "code",
   "execution_count": 16,
   "id": "a9e60c03",
   "metadata": {},
   "outputs": [],
   "source": [
    "def plot_metrics(metrics, title_prefix=\"\"):\n",
    "    fig, axs = plt.subplots(3, 2, figsize=(14, 12))\n",
    "    axs = axs.flatten()\n",
    "    keys = [\"logits\", \"log_var\", \"kl\", \"total_loss\", \"aleatoric_loss\", \"epistemic_loss\"]\n",
    "    \n",
    "    for i, key in enumerate(keys):\n",
    "        values = metrics[key]\n",
    "        # Flatten logits/log_var if needed\n",
    "        if isinstance(values[0], (np.ndarray, list)):\n",
    "            values = [np.mean(v) for v in values]\n",
    "        axs[i].plot(values)\n",
    "        axs[i].set_title(f\"{title_prefix}{key}\")\n",
    "        axs[i].set_xlabel(\"Batch\")\n",
    "        axs[i].set_ylabel(key)\n",
    "\n",
    "    plt.tight_layout()\n",
    "    plt.show()\n"
   ]
  },
  {
   "cell_type": "code",
   "execution_count": null,
   "id": "98134749",
   "metadata": {},
   "outputs": [],
   "source": []
  },
  {
   "cell_type": "code",
   "execution_count": 15,
   "id": "79c4bc11",
   "metadata": {},
   "outputs": [
    {
     "data": {
      "application/vnd.jupyter.widget-view+json": {
       "model_id": "327c6dc44c9e4bf898a83e90147eb157",
       "version_major": 2,
       "version_minor": 0
      },
      "text/plain": [
       "  0%|          | 0/7967 [00:00<?, ?it/s]"
      ]
     },
     "metadata": {},
     "output_type": "display_data"
    },
    {
     "data": {
      "application/vnd.jupyter.widget-view+json": {
       "model_id": "fa853ba3645041b08e28609588fc40b6",
       "version_major": 2,
       "version_minor": 0
      },
      "text/plain": [
       "  0%|          | 0/1196 [00:00<?, ?it/s]"
      ]
     },
     "metadata": {},
     "output_type": "display_data"
    }
   ],
   "source": [
    "train_losses, train_metrics = validate(model, train_loader, 'train', device, th=0.5)\n",
    "test_losses, test_metrics = validate(model, test_loader, 'test', device, th=0.5)"
   ]
  },
  {
   "cell_type": "code",
   "execution_count": 20,
   "id": "531c0beb",
   "metadata": {},
   "outputs": [
    {
     "name": "stdout",
     "output_type": "stream",
     "text": [
      "[(32765607.091753483, 502.06359498527365, 32677788.0)]\n",
      "[(0.4699052281428482, 0.093819113025259, 0.5494205862304021)]\n",
      "[(32769758.295986623, 501.3160934383152, 32677788.0)]\n",
      "[(0.4588038477624425, 0.09097744360902256, 0.587378640776699)]\n"
     ]
    }
   ],
   "source": [
    "#load history\n",
    "with open('train_history.pkl', 'rb') as f:\n",
    "    hist=pickle.load(f)\n",
    "    #plot_metrics(hist, 'train')\n",
    "    print(hist[\"avg_losses\"])\n",
    "    print(hist[\"avg_metrics\"])\n",
    "    \n",
    "with open('test_history.pkl', 'rb') as f:\n",
    "    hist=pickle.load(f)\n",
    "    #plot_metrics(hist, 'test')\n",
    "    print(hist[\"avg_losses\"])\n",
    "    print(hist[\"avg_metrics\"])"
   ]
  },
  {
   "cell_type": "code",
   "execution_count": 22,
   "id": "b1ba19f7",
   "metadata": {},
   "outputs": [],
   "source": [
    "def compute_nonconformity_scores(model, dataloader, device):\n",
    "    model.eval()\n",
    "    nonconformity_scores = []\n",
    "\n",
    "    with torch.no_grad():\n",
    "        for images, labels in dataloader:\n",
    "            images = images.to(device)\n",
    "            labels = labels.to(device)\n",
    "            \n",
    "            logits, log_var, _ = model(images)\n",
    "            probs = torch.sigmoid(logits).squeeze()\n",
    "            \n",
    "            # Nonconformity score: 1 - probability assigned to the true label\n",
    "            scores = 1.0 - (probs * labels + (1 - probs) * (1 - labels))\n",
    "            nonconformity_scores.extend(scores.cpu().numpy())\n",
    "    \n",
    "    return np.array(nonconformity_scores)\n",
    "\n",
    "\n",
    "\n",
    "def get_conformal_threshold(nonconformity_scores, alpha=0.05):\n",
    "    # alpha = 0.05 for 95% confidence\n",
    "    n = len(nonconformity_scores)\n",
    "    q = np.ceil((n + 1) * (1 - alpha)) / n\n",
    "    threshold = np.quantile(nonconformity_scores, q)\n",
    "    return threshold\n"
   ]
  },
  {
   "cell_type": "code",
   "execution_count": 23,
   "id": "cc3d5d84",
   "metadata": {},
   "outputs": [
    {
     "name": "stdout",
     "output_type": "stream",
     "text": [
      "Threshold=1.0\n"
     ]
    }
   ],
   "source": [
    "nonconformity_scores=compute_nonconformity_scores(model, calib_loader, device)\n",
    "th=get_conformal_threshold(nonconformity_scores)\n",
    "print(f\"Threshold={th}\")"
   ]
  },
  {
   "cell_type": "code",
   "execution_count": 25,
   "id": "5994c41e",
   "metadata": {},
   "outputs": [
    {
     "data": {
      "application/vnd.jupyter.widget-view+json": {
       "model_id": "ee68c84193ad4368af33bbfea3a1df34",
       "version_major": 2,
       "version_minor": 0
      },
      "text/plain": [
       "  0%|          | 0/1196 [00:00<?, ?it/s]"
      ]
     },
     "metadata": {},
     "output_type": "display_data"
    },
    {
     "name": "stdout",
     "output_type": "stream",
     "text": [
      "Loss=[(32757970.620401338, 492.86599848128935, 32677788.0)], Metrics=[(0.9138435800920117, 0.0, 0.0)]\n"
     ]
    },
    {
     "name": "stderr",
     "output_type": "stream",
     "text": [
      "/home/sanjayv/anaconda3/envs/uc/lib/python3.7/site-packages/sklearn/metrics/_classification.py:1318: UndefinedMetricWarning: Precision is ill-defined and being set to 0.0 due to no predicted samples. Use `zero_division` parameter to control this behavior.\n",
      "  _warn_prf(average, modifier, msg_start, len(result))\n"
     ]
    }
   ],
   "source": [
    "test_losses, test_metrics = validate(model, test_loader, 'test', device, th=1.0)\n",
    "print(f\"Loss={test_losses}, Metrics={test_metrics}\")"
   ]
  },
  {
   "cell_type": "code",
   "execution_count": null,
   "id": "7792b5f3",
   "metadata": {},
   "outputs": [],
   "source": [
    "from sklearn.calibration import calibration_curve\n",
    "from sklearn.metrics import brier_score_loss\n",
    "\n",
    "def plot_calibration(y_true, y_pred, n_bins=10):\n",
    "    prob_true, prob_pred = calibration_curve(y_true, y_pred, n_bins=n_bins)\n",
    "\n",
    "    plt.figure(figsize=(6, 6))\n",
    "    plt.plot(prob_pred, prob_true, marker='o', label='Reliability Curve')\n",
    "    plt.plot([0, 1], [0, 1], 'k--', label='Perfectly Calibrated')\n",
    "    plt.xlabel('Mean Predicted Probability')\n",
    "    plt.ylabel('Fraction of Positives')\n",
    "    plt.title('Calibration Curve')\n",
    "    plt.legend()\n",
    "    plt.grid(True)\n",
    "    plt.tight_layout()\n",
    "    plt.show()\n",
    "\n",
    "    ece = np.abs(prob_true - prob_pred).mean()\n",
    "    brier = brier_score_loss(y_true, y_probs)\n",
    "    print(f\"ECE (Expected Calibration Error): {ece:.4f}\")\n",
    "    print(f\"Brier Score: {brier:.4f}\")\n"
   ]
  },
  {
   "cell_type": "code",
   "execution_count": 40,
   "id": "a3135853",
   "metadata": {},
   "outputs": [
    {
     "ename": "NameError",
     "evalue": "name 'train_losses' is not defined",
     "output_type": "error",
     "traceback": [
      "\u001b[0;31m---------------------------------------------------------------------------\u001b[0m",
      "\u001b[0;31mNameError\u001b[0m                                 Traceback (most recent call last)",
      "\u001b[0;32m/tmp/ipykernel_3218360/4119412793.py\u001b[0m in \u001b[0;36m<module>\u001b[0;34m\u001b[0m\n\u001b[1;32m      4\u001b[0m \u001b[0;34m\u001b[0m\u001b[0m\n\u001b[1;32m      5\u001b[0m \u001b[0mplt\u001b[0m\u001b[0;34m.\u001b[0m\u001b[0msubplot\u001b[0m\u001b[0;34m(\u001b[0m\u001b[0;36m1\u001b[0m\u001b[0;34m,\u001b[0m \u001b[0;36m2\u001b[0m\u001b[0;34m,\u001b[0m \u001b[0;36m1\u001b[0m\u001b[0;34m)\u001b[0m\u001b[0;34m\u001b[0m\u001b[0;34m\u001b[0m\u001b[0m\n\u001b[0;32m----> 6\u001b[0;31m \u001b[0mtrain_loss\u001b[0m \u001b[0;34m=\u001b[0m \u001b[0;34m[\u001b[0m\u001b[0mx\u001b[0m\u001b[0;34m[\u001b[0m\u001b[0;36m0\u001b[0m\u001b[0;34m]\u001b[0m \u001b[0;32mfor\u001b[0m \u001b[0mx\u001b[0m \u001b[0;32min\u001b[0m \u001b[0mtrain_losses\u001b[0m\u001b[0;34m]\u001b[0m\u001b[0;34m\u001b[0m\u001b[0;34m\u001b[0m\u001b[0m\n\u001b[0m\u001b[1;32m      7\u001b[0m \u001b[0mval_loss\u001b[0m \u001b[0;34m=\u001b[0m \u001b[0;34m[\u001b[0m\u001b[0mx\u001b[0m\u001b[0;34m[\u001b[0m\u001b[0;36m0\u001b[0m\u001b[0;34m]\u001b[0m \u001b[0;32mfor\u001b[0m \u001b[0mx\u001b[0m \u001b[0;32min\u001b[0m \u001b[0mval_losses\u001b[0m\u001b[0;34m]\u001b[0m\u001b[0;34m\u001b[0m\u001b[0;34m\u001b[0m\u001b[0m\n\u001b[1;32m      8\u001b[0m \u001b[0mplt\u001b[0m\u001b[0;34m.\u001b[0m\u001b[0mplot\u001b[0m\u001b[0;34m(\u001b[0m\u001b[0mepochs_range\u001b[0m\u001b[0;34m,\u001b[0m \u001b[0mtrain_loss\u001b[0m\u001b[0;34m,\u001b[0m \u001b[0mlabel\u001b[0m\u001b[0;34m=\u001b[0m\u001b[0;34m'Train Loss'\u001b[0m\u001b[0;34m)\u001b[0m\u001b[0;34m\u001b[0m\u001b[0;34m\u001b[0m\u001b[0m\n",
      "\u001b[0;31mNameError\u001b[0m: name 'train_losses' is not defined"
     ]
    },
    {
     "data": {
      "image/png": "[encoded data removed]",
      "text/plain": [
       "<Figure size 1200x500 with 1 Axes>"
      ]
     },
     "metadata": {},
     "output_type": "display_data"
    }
   ],
   "source": [
    "\n",
    "\n",
    "# Visualization\n",
    "epochs_range = range(1, epochs + 1)\n",
    "plt.figure(figsize=(12, 5))\n",
    "\n",
    "plt.subplot(1, 2, 1)\n",
    "train_loss = [x[0] for x in train_losses]\n",
    "val_loss = [x[0] for x in val_losses]\n",
    "plt.plot(epochs_range, train_loss, label='Train Loss')\n",
    "plt.plot(epochs_range, val_loss, label='Val Loss')\n",
    "plt.xlabel('Epoch')\n",
    "plt.ylabel('Loss')\n",
    "plt.title('Loss Over Epochs')\n",
    "plt.legend()\n",
    "\n",
    "plt.subplot(1, 2, 2)\n",
    "train_acc = [x[0] for x in train_metrics]\n",
    "val_acc = [x[0] for x in val_metrics]\n",
    "plt.plot(epochs_range, train_acc, label='Train Acc')\n",
    "plt.plot(epochs_range, val_acc, label='Val Acc')\n",
    "plt.xlabel('Epoch')\n",
    "plt.ylabel('Accuracy')\n",
    "plt.title('Accuracy Over Epochs')\n",
    "plt.legend()\n",
    "\n",
    "plt.tight_layout()\n",
    "plt.show()\n"
   ]
  },
  {
   "cell_type": "code",
   "execution_count": null,
   "id": "7f15f4e1",
   "metadata": {},
   "outputs": [],
   "source": []
  }
 ],
 "metadata": {
  "kernelspec": {
   "display_name": "Python 3 (ipykernel)",
   "language": "python",
   "name": "python3"
  },
  "language_info": {
   "codemirror_mode": {
    "name": "ipython",
    "version": 3
   },
   "file_extension": ".py",
   "mimetype": "text/x-python",
   "name": "python",
   "nbconvert_exporter": "python",
   "pygments_lexer": "ipython3",
   "version": "3.7.12"
  }
 },
 "nbformat": 4,
 "nbformat_minor": 5
}
